{
 "cells": [
  {
   "cell_type": "code",
   "execution_count": 1,
   "metadata": {},
   "outputs": [],
   "source": [
    "import rdkit as rd\n",
    "import pandas as pd\n",
    "import xml.etree.ElementTree as ET\n",
    "import xmlschema\n",
    "import csv \n",
    "from rdkit import DataStructs\n",
    "from rdkit.Chem.Fingerprints import FingerprintMols\n",
    "from rdkit import Chem\n",
    "from rdkit.Chem import AllChem\n",
    "\n"
   ]
  },
  {
   "cell_type": "markdown",
   "metadata": {},
   "source": [
    "## Parsing xml files for feature engineering\n",
    "\n",
    "In addition to the structure of each of the drugs, we will also use other properties of drugs as features to predict interaction types. These are stored under the \"calculated-properties\" heading of the xml file. For the 8226 drugs in our dataset, we will parse out all of the calculated properties and later decide which one of these will be useful features for the prediction problem"
   ]
  },
  {
   "cell_type": "code",
   "execution_count": null,
   "metadata": {},
   "outputs": [],
   "source": [
    "#my_schema = xmlschema.XMLSchema('/Users/shristi/Documents/InsightDataProject/Data/DrugBank/drugbank.xsd')\n",
    "my_tree = ET.parse('/Users/shristi/Documents/InsightDataProject/Data/DrugBank/fulldatabase2.xml')\n",
    "root = my_tree.getroot()\n",
    "\n"
   ]
  },
  {
   "cell_type": "markdown",
   "metadata": {},
   "source": [
    "#### How many drugs are there in the dataset?"
   ]
  },
  {
   "cell_type": "code",
   "execution_count": null,
   "metadata": {},
   "outputs": [],
   "source": [
    "len(root)"
   ]
  },
  {
   "cell_type": "code",
   "execution_count": null,
   "metadata": {},
   "outputs": [],
   "source": [
    "# Retrieve calculated properties from the xml files to engineer features that will be used to predict\n",
    "# drug drug interactions in the future. \n",
    "smiles = {}\n",
    "count = 0\n",
    "drug_properties = {}\n",
    "for drug in root:\n",
    "    for i in range(0, len(drug)): \n",
    "        if (drug[i].tag == \"{http://www.drugbank.ca}name\"):\n",
    "            drug_name = drug[i].text\n",
    "        if (drug[i].tag ==  \"{http://www.drugbank.ca}calculated-properties\"):\n",
    "            calc_properties = drug[i]\n",
    "    properties = {}    \n",
    "    for calc_property in calc_properties:\n",
    "        properties[calc_property[0].text] = calc_property[1].text \n",
    "    drug_properties[drug_name]= properties\n",
    "        "
   ]
  },
  {
   "cell_type": "code",
   "execution_count": null,
   "metadata": {},
   "outputs": [],
   "source": [
    "len(drug_properties)"
   ]
  },
  {
   "cell_type": "code",
   "execution_count": null,
   "metadata": {},
   "outputs": [],
   "source": [
    "drugs = pd.DataFrame.from_dict(drug_properties)\n",
    "drugs_features = drugs.transpose()"
   ]
  },
  {
   "cell_type": "code",
   "execution_count": null,
   "metadata": {},
   "outputs": [],
   "source": [
    "drugs_features"
   ]
  },
  {
   "cell_type": "code",
   "execution_count": 1,
   "metadata": {},
   "outputs": [
    {
     "ename": "NameError",
     "evalue": "name 'drugs_features' is not defined",
     "output_type": "error",
     "traceback": [
      "\u001b[0;31m---------------------------------------------------------------------------\u001b[0m",
      "\u001b[0;31mNameError\u001b[0m                                 Traceback (most recent call last)",
      "\u001b[0;32m<ipython-input-1-6c7929b02084>\u001b[0m in \u001b[0;36m<module>\u001b[0;34m\u001b[0m\n\u001b[0;32m----> 1\u001b[0;31m \u001b[0mdrugs_features\u001b[0m\u001b[0;34m.\u001b[0m\u001b[0mto_csv\u001b[0m\u001b[0;34m(\u001b[0m\u001b[0;34m\"/Users/shristi/Documents/InsightDataProject/Data/ProcessedData/molecular_features.csv\"\u001b[0m\u001b[0;34m,\u001b[0m \u001b[0mna_rep\u001b[0m\u001b[0;34m=\u001b[0m\u001b[0;34m'NA'\u001b[0m\u001b[0;34m)\u001b[0m\u001b[0;34m\u001b[0m\u001b[0;34m\u001b[0m\u001b[0m\n\u001b[0m",
      "\u001b[0;31mNameError\u001b[0m: name 'drugs_features' is not defined"
     ]
    }
   ],
   "source": [
    "drugs_features.to_csv(\"/Users/shristi/Documents/InsightDataProject/Data/ProcessedData/molecular_features.csv\", na_rep='NA')"
   ]
  }
 ],
 "metadata": {
  "kernelspec": {
   "display_name": "Python 3",
   "language": "python",
   "name": "python3"
  },
  "language_info": {
   "codemirror_mode": {
    "name": "ipython",
    "version": 3
   },
   "file_extension": ".py",
   "mimetype": "text/x-python",
   "name": "python",
   "nbconvert_exporter": "python",
   "pygments_lexer": "ipython3",
   "version": "3.7.3"
  }
 },
 "nbformat": 4,
 "nbformat_minor": 2
}
