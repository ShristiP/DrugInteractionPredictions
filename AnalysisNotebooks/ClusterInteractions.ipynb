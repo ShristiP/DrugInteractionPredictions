{
 "cells": [
  {
   "cell_type": "markdown",
   "metadata": {},
   "source": [
    "# How many types of interactions exist between drugs?\n",
    "\n",
    "#### Tools: TF-IDF, word2vec(trained on medical data), unsupervised clustering "
   ]
  },
  {
   "cell_type": "code",
   "execution_count": 19,
   "metadata": {},
   "outputs": [],
   "source": [
    "import pandas as pd\n",
    "import pybel\n",
    "import xml.etree.ElementTree as ET\n",
    "import xmlschema\n",
    "import nltk\n",
    "from sklearn.feature_extraction.text import CountVectorizer\n",
    "from sklearn.feature_extraction.text import TfidfVectorizer"
   ]
  },
  {
   "cell_type": "code",
   "execution_count": 7,
   "metadata": {},
   "outputs": [
    {
     "data": {
      "text/html": [
       "<div>\n",
       "<style scoped>\n",
       "    .dataframe tbody tr th:only-of-type {\n",
       "        vertical-align: middle;\n",
       "    }\n",
       "\n",
       "    .dataframe tbody tr th {\n",
       "        vertical-align: top;\n",
       "    }\n",
       "\n",
       "    .dataframe thead th {\n",
       "        text-align: right;\n",
       "    }\n",
       "</style>\n",
       "<table border=\"1\" class=\"dataframe\">\n",
       "  <thead>\n",
       "    <tr style=\"text-align: right;\">\n",
       "      <th></th>\n",
       "      <th>Drug_Pair</th>\n",
       "      <th>Described_interactions</th>\n",
       "    </tr>\n",
       "  </thead>\n",
       "  <tbody>\n",
       "    <tr>\n",
       "      <th>0</th>\n",
       "      <td>('Abacavir', 'Lepirudin')</td>\n",
       "      <td>The serum concentration of Abacavir can be dec...</td>\n",
       "    </tr>\n",
       "    <tr>\n",
       "      <th>1</th>\n",
       "      <td>('Abciximab', 'Lepirudin')</td>\n",
       "      <td>Abciximab may increase the anticoagulant activ...</td>\n",
       "    </tr>\n",
       "    <tr>\n",
       "      <th>2</th>\n",
       "      <td>('Aceclofenac', 'Lepirudin')</td>\n",
       "      <td>Aceclofenac may increase the anticoagulant act...</td>\n",
       "    </tr>\n",
       "    <tr>\n",
       "      <th>3</th>\n",
       "      <td>('Acenocoumarol', 'Lepirudin')</td>\n",
       "      <td>Lepirudin may increase the anticoagulant activ...</td>\n",
       "    </tr>\n",
       "    <tr>\n",
       "      <th>4</th>\n",
       "      <td>('Acetylsalicylic acid', 'Lepirudin')</td>\n",
       "      <td>Acetylsalicylic acid may increase the anticoag...</td>\n",
       "    </tr>\n",
       "  </tbody>\n",
       "</table>\n",
       "</div>"
      ],
      "text/plain": [
       "                               Drug_Pair  \\\n",
       "0              ('Abacavir', 'Lepirudin')   \n",
       "1             ('Abciximab', 'Lepirudin')   \n",
       "2           ('Aceclofenac', 'Lepirudin')   \n",
       "3         ('Acenocoumarol', 'Lepirudin')   \n",
       "4  ('Acetylsalicylic acid', 'Lepirudin')   \n",
       "\n",
       "                              Described_interactions  \n",
       "0  The serum concentration of Abacavir can be dec...  \n",
       "1  Abciximab may increase the anticoagulant activ...  \n",
       "2  Aceclofenac may increase the anticoagulant act...  \n",
       "3  Lepirudin may increase the anticoagulant activ...  \n",
       "4  Acetylsalicylic acid may increase the anticoag...  "
      ]
     },
     "execution_count": 7,
     "metadata": {},
     "output_type": "execute_result"
    }
   ],
   "source": [
    "# Read in interaction data for each drug pair \n",
    "all_interactions = pd.read_csv('/Users/shristi/Documents/InsightDataProject/Data/ProcessedData/drug_interactions.csv')\n",
    "all_interactions.head()\n"
   ]
  },
  {
   "cell_type": "code",
   "execution_count": 51,
   "metadata": {},
   "outputs": [
    {
     "name": "stdout",
     "output_type": "stream",
     "text": [
      "56969\n"
     ]
    }
   ],
   "source": [
    "count = 0 \n",
    "for interaction in interactions_list: \n",
    "    if 'may increase' in interaction: \n",
    "        #print(interaction)\n",
    "        count +=1\n",
    "print(count)"
   ]
  },
  {
   "cell_type": "code",
   "execution_count": 41,
   "metadata": {},
   "outputs": [
    {
     "name": "stdout",
     "output_type": "stream",
     "text": [
      "253280\n",
      "The serum concentration of Abacavir can be decreased when it is combined with Lepirudin.\n",
      "Abciximab may increase the anticoagulant activities of Lepirudin.\n",
      "Aceclofenac may increase the anticoagulant activities of Lepirudin.\n",
      "The metabolism of Vandetanib can be decreased when combined with Ritonavir.\n"
     ]
    }
   ],
   "source": [
    "interactions_list = list(all_interactions['Described_interactions'])\n",
    "print(len(interactions_list))\n",
    "\n",
    "\n",
    "print(interactions_list[0])\n",
    "print(interactions_list[1])\n",
    "print(interactions_list[2])\n",
    "print(interactions_list[100000])\n",
    "\n"
   ]
  },
  {
   "cell_type": "code",
   "execution_count": 24,
   "metadata": {},
   "outputs": [],
   "source": [
    "#tokenize strings describing interactions\n",
    "\n",
    "corpus = interactions_list\n",
    "vectorizer = TfidfVectorizer()\n",
    "X = vectorizer.fit_transform(corpus)\n",
    "#print(vectorizer.get_feature_names())\n",
    "    \n"
   ]
  },
  {
   "cell_type": "code",
   "execution_count": null,
   "metadata": {},
   "outputs": [],
   "source": []
  },
  {
   "cell_type": "code",
   "execution_count": null,
   "metadata": {},
   "outputs": [],
   "source": []
  }
 ],
 "metadata": {
  "kernelspec": {
   "display_name": "Python 3",
   "language": "python",
   "name": "python3"
  },
  "language_info": {
   "codemirror_mode": {
    "name": "ipython",
    "version": 3
   },
   "file_extension": ".py",
   "mimetype": "text/x-python",
   "name": "python",
   "nbconvert_exporter": "python",
   "pygments_lexer": "ipython3",
   "version": "3.7.3"
  }
 },
 "nbformat": 4,
 "nbformat_minor": 2
}
