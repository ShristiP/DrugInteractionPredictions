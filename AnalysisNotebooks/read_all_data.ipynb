{
 "cells": [
  {
   "cell_type": "code",
   "execution_count": 201,
   "metadata": {},
   "outputs": [],
   "source": [
    "import xml.etree.ElementTree as ET\n",
    "import xmlschema\n",
    "import pickle"
   ]
  },
  {
   "cell_type": "code",
   "execution_count": 186,
   "metadata": {},
   "outputs": [],
   "source": [
    "class Drug:\n",
    "    def __init__(self):\n",
    "        self.name = None\n",
    "        self.description = None\n",
    "        self.indication = None\n",
    "        self.structure = None\n",
    "        self.water_solubility = None\n",
    "        self.logP = None # logP is a measure of lipophilicity\n",
    "        self.logS = None\n",
    "        self.polarizibility = None\n",
    "        self.refractivity = None\n",
    "        self.physio_charge = None\n",
    "        self.num_hbond_donors = None\n",
    "        self.num_hbond_acceptors = None\n",
    "        self.strongest_acid_pka = None\n",
    "        self.strongest_basic_pka = None\n",
    "        self.psa = None # Polar surface area\n",
    "        self.interactions = None\n",
    "\n",
    "    def __repr__(self):\n",
    "        return \"Name:%s Structure:%s\" % (self.name, self.structure)"
   ]
  },
  {
   "cell_type": "code",
   "execution_count": 190,
   "metadata": {},
   "outputs": [],
   "source": [
    "def read_data(xmlfile):\n",
    "    my_tree = ET.parse(xmlfile)\n",
    "    root = my_tree.getroot()\n",
    "    count = 0\n",
    "    drug_list = []\n",
    "    for drug in root:\n",
    "        d = Drug()\n",
    "        #go through the drug descriptions and extract relevant features\n",
    "        for i in range(0, len(drug)): \n",
    "            #print(drug[i].tag, drug[i].text)\n",
    "            if (drug[i].tag == \"{http://www.drugbank.ca}name\"):\n",
    "                d.name = drug[i].text\n",
    "            if (drug[i].tag == \"{http://www.drugbank.ca}description\"):\n",
    "                d.description = drug[i].text\n",
    "            if (drug[i].tag == \"{http://www.drugbank.ca}indication\"):\n",
    "                d.indication = drug[i].text    \n",
    "                \n",
    "            # Now retrieve all the structural features of the drug as well as other properties that can be \n",
    "            # calculated using structural info\n",
    "            if (drug[i].tag ==  \"{http://www.drugbank.ca}calculated-properties\"):\n",
    "                calculated_properties = drug[i]\n",
    "                properties = {}\n",
    "                for calc_property in calculated_properties:\n",
    "                    #print(calc_property[0].text, calc_property[1].text)\n",
    "                    if calc_property[0].text == 'logS':\n",
    "                        d.logS = calc_property[1].text\n",
    "\n",
    "                    elif calc_property[0].text == 'SMILES':\n",
    "                        d.structure = calc_property[1].text\n",
    "\n",
    "                    elif calc_property[0].text == 'Water Solubility':\n",
    "                        d.water_solubility = calc_property[1].text\n",
    "                        \n",
    "                    elif calc_property[0].text == 'logP':\n",
    "                        d.logP = calc_property[1].text\n",
    "                        \n",
    "                    elif calc_property[0].text == 'Refractivity':\n",
    "                        d.refractivity = calc_property[1].text\n",
    "                        \n",
    "                    elif calc_property[0].text == 'Polarizability':\n",
    "                        d.polarizibility = calc_property[1].text\n",
    "                        \n",
    "                    elif calc_property[0].text == 'Physiological Charge':\n",
    "                        d.physio_charge = calc_property[1].text\n",
    "                    \n",
    "                    elif calc_property[0].text == 'H Bond Donor Count':\n",
    "                        d.num_hbond_donors = calc_property[1].text\n",
    "                        \n",
    "                    elif calc_property[0].text == 'pKa (strongest acidic)':\n",
    "                        d.strongest_acid_pka = calc_property[1].text\n",
    "                    \n",
    "                    elif calc_property[0].text == 'pKa (strongest basic)':\n",
    "                        d.strongest_basic_pka = calc_property[1].text\n",
    "                        \n",
    "                    elif calc_property[0].text == 'H Bond Acceptor Count':\n",
    "                        d.num_hbond_acceptors = calc_property[1].text\n",
    "                    \n",
    "                    elif calc_property[0].text == 'Polar Surface Area (PSA)':\n",
    "                        d.PSA = calc_property[1].text\n",
    "                        \n",
    "            # now take interactions which will be labels in machine learning model\n",
    "            if (drug[i].tag ==  \"{http://www.drugbank.ca}drug-interactions\"):\n",
    "                all_drug_interactions = {}\n",
    "                drug_interactions = drug[i]\n",
    "                for drug_interaction in drug_interactions:\n",
    "                    interacting_drug = drug_interaction[1].text\n",
    "                    description = drug_interaction[2].text\n",
    "                    all_drug_interactions[interacting_drug] = description\n",
    "                d.interactions = all_drug_interactions\n",
    "                #print(d.interactions)\n",
    "    \n",
    "        drug_list.append(d) \n",
    "    return drug_list"
   ]
  },
  {
   "cell_type": "code",
   "execution_count": 191,
   "metadata": {},
   "outputs": [],
   "source": [
    "#my_schema = xmlschema.XMLSchema('/Users/shristi/Documents/InsightDataProject/Data/DrugBank/drugbank.xsd')\n",
    "xmlfile = '/Users/shristi/Documents/InsightDataProject/Data/DrugBank/fulldatabase2.xml'\n",
    "drug_list = read_data(xmlfile)"
   ]
  },
  {
   "cell_type": "markdown",
   "metadata": {},
   "source": [
    "There are a total of 8226 drugs in the database. However not all of them have all the associated info. Lets save this original dataset. Then we will remove those entries where there are either no interactions or no associated structural data "
   ]
  },
  {
   "cell_type": "code",
   "execution_count": 203,
   "metadata": {},
   "outputs": [
    {
     "data": {
      "text/plain": [
       "8226"
      ]
     },
     "execution_count": 203,
     "metadata": {},
     "output_type": "execute_result"
    }
   ],
   "source": [
    "len(drug_list)"
   ]
  },
  {
   "cell_type": "code",
   "execution_count": 207,
   "metadata": {},
   "outputs": [],
   "source": []
  },
  {
   "cell_type": "code",
   "execution_count": 210,
   "metadata": {},
   "outputs": [],
   "source": [
    "def cleanup_data (drug_list):\n",
    "    cleaned_druglist = []\n",
    "    for drug in drug_list: \n",
    "        if drug.interactions == None or drug.structure == None:\n",
    "            continue\n",
    "        else:\n",
    "            cleaned_druglist.append(drug)        \n",
    "    return cleaned_druglist"
   ]
  },
  {
   "cell_type": "code",
   "execution_count": 211,
   "metadata": {},
   "outputs": [],
   "source": [
    "cleaned_druglist = cleanup_data(drug_list)"
   ]
  },
  {
   "cell_type": "code",
   "execution_count": 214,
   "metadata": {},
   "outputs": [
    {
     "data": {
      "text/plain": [
       "7202"
      ]
     },
     "execution_count": 214,
     "metadata": {},
     "output_type": "execute_result"
    }
   ],
   "source": [
    "len(cleaned_druglist)"
   ]
  },
  {
   "cell_type": "code",
   "execution_count": 215,
   "metadata": {},
   "outputs": [],
   "source": [
    "#Save the new list: \n",
    "with open('cleaned_data.pkl', 'wb') as f:\n",
    "    pickle.dump(cleaned_druglist, f)"
   ]
  },
  {
   "cell_type": "code",
   "execution_count": null,
   "metadata": {},
   "outputs": [],
   "source": []
  }
 ],
 "metadata": {
  "kernelspec": {
   "display_name": "Python 3",
   "language": "python",
   "name": "python3"
  },
  "language_info": {
   "codemirror_mode": {
    "name": "ipython",
    "version": 3
   },
   "file_extension": ".py",
   "mimetype": "text/x-python",
   "name": "python",
   "nbconvert_exporter": "python",
   "pygments_lexer": "ipython3",
   "version": "3.7.3"
  }
 },
 "nbformat": 4,
 "nbformat_minor": 2
}
