{
 "cells": [
  {
   "cell_type": "code",
   "execution_count": 3,
   "metadata": {},
   "outputs": [],
   "source": [
    "import re\n",
    "import numpy as np\n",
    "import pandas as pd\n",
    "import missingno as msno\n",
    "import pickle"
   ]
  },
  {
   "cell_type": "code",
   "execution_count": 4,
   "metadata": {},
   "outputs": [
    {
     "name": "stdout",
     "output_type": "stream",
     "text": [
      "253281 entries\n"
     ]
    }
   ],
   "source": [
    "entries = open('/Users/shristi/Documents/InsightDataProject/Data/ProcessedData/drug_interactions.csv').readlines()\n",
    "print(\"%d entries\" % len(entries))"
   ]
  },
  {
   "cell_type": "code",
   "execution_count": 5,
   "metadata": {},
   "outputs": [
    {
     "name": "stdout",
     "output_type": "stream",
     "text": [
      "ignored 2225 entries\n"
     ]
    }
   ],
   "source": [
    "dataset = []\n",
    "ignored = 0\n",
    "for entry in entries[1:]:\n",
    "    elems = entry.split(',')\n",
    "    elems = [re.sub(r'[^a-zA-Z0-9_ ]+', '', elem) for elem in elems]\n",
    "    elems = [elem.strip().lower() for elem in elems]\n",
    "    # check proper number of elements and that both entities are present in description\n",
    "    if len(elems) != 3 or not (elems[0] in elems[2] and elems[1] in elems[2]):\n",
    "        ignored += 1\n",
    "    else:\n",
    "        dataset.append(elems)\n",
    "print('ignored %d entries' % ignored)"
   ]
  },
  {
   "cell_type": "code",
   "execution_count": 6,
   "metadata": {},
   "outputs": [
    {
     "data": {
      "text/plain": [
       "[['abacavir',\n",
       "  'lepirudin',\n",
       "  'the serum concentration of abacavir can be decreased when it is combined with lepirudin'],\n",
       " ['abciximab',\n",
       "  'lepirudin',\n",
       "  'abciximab may increase the anticoagulant activities of lepirudin'],\n",
       " ['aceclofenac',\n",
       "  'lepirudin',\n",
       "  'aceclofenac may increase the anticoagulant activities of lepirudin'],\n",
       " ['acenocoumarol',\n",
       "  'lepirudin',\n",
       "  'lepirudin may increase the anticoagulant activities of acenocoumarol'],\n",
       " ['acetylsalicylic acid',\n",
       "  'lepirudin',\n",
       "  'acetylsalicylic acid may increase the anticoagulant activities of lepirudin'],\n",
       " ['adapalene',\n",
       "  'lepirudin',\n",
       "  'adapalene may increase the anticoagulant activities of lepirudin'],\n",
       " ['alfuzosin',\n",
       "  'lepirudin',\n",
       "  'the serum concentration of alfuzosin can be increased when it is combined with lepirudin'],\n",
       " ['allylestrenol',\n",
       "  'lepirudin',\n",
       "  'the therapeutic efficacy of lepirudin can be decreased when used in combination with allylestrenol'],\n",
       " ['alprazolam',\n",
       "  'lepirudin',\n",
       "  'the serum concentration of alprazolam can be increased when it is combined with lepirudin'],\n",
       " ['alprostadil',\n",
       "  'lepirudin',\n",
       "  'alprostadil may increase the anticoagulant activities of lepirudin']]"
      ]
     },
     "execution_count": 6,
     "metadata": {},
     "output_type": "execute_result"
    }
   ],
   "source": [
    "dataset[:10]"
   ]
  },
  {
   "cell_type": "code",
   "execution_count": 7,
   "metadata": {},
   "outputs": [],
   "source": [
    "class Relation:\n",
    "    def __init__(self):\n",
    "        self.subject = None\n",
    "        self.object = None\n",
    "        self.relation = None\n",
    "        self.normalizedRelation = None\n",
    "\n",
    "    def __repr__(self):\n",
    "        return \"%s (%s) %s\" % (self.subject, self.normalizedRelation, self.object)"
   ]
  },
  {
   "cell_type": "code",
   "execution_count": 8,
   "metadata": {},
   "outputs": [],
   "source": [
    "# relationship between entities\n",
    "def parseEntry(entry):\n",
    "    e1 = entry[0]\n",
    "    e2 = entry[1]\n",
    "    description = entry[2]\n",
    "    idx1 = description.find(e1)\n",
    "    idx2 = description.find(e2)\n",
    "    \n",
    "    prefix = \"\"\n",
    "    if min(idx1, idx2) != 0:\n",
    "        prefix = description[:min(idx1, idx2)]\n",
    "    \n",
    "    if idx1 < idx2:\n",
    "        relation = (prefix, e1, description[idx1 + len(e1): idx2].strip(), e2)\n",
    "    else:\n",
    "        relation = (prefix, e2, description[idx2 + len(e2): idx1].strip(), e1)\n",
    "    return relation"
   ]
  },
  {
   "cell_type": "code",
   "execution_count": 9,
   "metadata": {},
   "outputs": [],
   "source": [
    "def getRelation(entry):\n",
    "    assert(len(entry) == 4)\n",
    "    relation = Relation()\n",
    "    if entry[0] == '':\n",
    "        relation.subject = entry[1]\n",
    "        relation.relation = entry[2]\n",
    "        relation.object = entry[3]\n",
    "    else:\n",
    "        relation.subject = entry[3]\n",
    "        relation.relation = entry[0] + \"__ \" + entry[2]\n",
    "        relation.object = entry[1]\n",
    "    return relation"
   ]
  },
  {
   "cell_type": "code",
   "execution_count": 10,
   "metadata": {},
   "outputs": [],
   "source": [
    "relations = []\n",
    "for entry in dataset:\n",
    "    entry = parseEntry(entry)\n",
    "    relation = getRelation(entry)\n",
    "    relations.append(relation)"
   ]
  },
  {
   "cell_type": "code",
   "execution_count": 44,
   "metadata": {},
   "outputs": [],
   "source": [
    "normalized_keywords = [\n",
    "    \"decrease anticoagulant activities\",\n",
    "    \"increase anticoagulant activities\",\n",
    "    \"serum concentration decreased\",\n",
    "    \"serum concentration increased\",\n",
    "    \"therapeutic efficacy decreased\",\n",
    "    \"metabolism increased\",\n",
    "    \"metabolism decreased\",\n",
    "    \"adverse effects increased\",\n",
    "    \"decrease cardiotoxic activities\",\n",
    "    \"increase cardiotoxic activities\",\n",
    "    \"increase qtcprolonging activities\",\n",
    "    \"decrease excretion rate\",\n",
    "    \"decrease antihypertensive activities\",\n",
    "    \"increase neuroexcitatory activities\",\n",
    "    \"decrease diuretic activities\",\n",
    "    \"increase neutropenic activities\",\n",
    "    \"increase immunosuppressive activities\",\n",
    "    \"increase nephrotoxic activities\",\n",
    "    \"decrease absorption\",\n",
    "    \"increase hyperkalemic activities\",\n",
    "    \"increase hypotensive activities\",\n",
    "    \"increase serotonergic activities\",\n",
    "    \"increase sedative activities\",\n",
    "    \"increase hypoglycemic activities\",\n",
    "    \"increase bradycardic activities\",\n",
    "    \"increase central nervous system depressant activities\",\n",
    "    \"increase antiplatelet activities\",\n",
    "    \"decrease antineoplastic activities\",\n",
    "    \"risk hypersensitivity reaction increased\",\n",
    "    \"increase myopathic rhabdomyolysis activities\",\n",
    "    \"increase hyponatremic activities\",\n",
    "    \"increase anticholinergic activities\",\n",
    "    \"increase neuromuscular blocking activities\",\n",
    "    \"increase thrombogenic activities\",\n",
    "    \"increase stimulatory activities\",\n",
    "    \"increase hepatotoxic activities\",\n",
    "    \"increase photosensitizing activities\",\n",
    "    \"increase atrioventricular blocking activities\",\n",
    "    \"increase adverse neuromuscular activities\",\n",
    "    \"increase vasoconstricting activities\",\n",
    "    \"serum concentration metabolites reduced\",\n",
    "    \"increase antihypertensive activities\",\n",
    "    \"increase absorption\",\n",
    "    \"increase neurotoxic activities\",\n",
    "    \"increase hypokalemic activities\",\n",
    "    \"increase hypocalcemic activities\",\n",
    "    \"increase hypertensive activities\", \n",
    "    \"increase constipating activities\",\n",
    "    \"decrease the stimulatory activities\",\n",
    "    \"bioavailability decreased\", \n",
    "    \"decrease sedative activities\", \n",
    "    \"increase respiratory depressant\", \n",
    "    \"decrease bronchodilatory activities\", \n",
    "    \"increase analgesic activities\",\n",
    "    \"increase arrhythmogenic activities\",\n",
    "    \"increase fluid retaining activities\", \n",
    "    \"increase tachycardic activities\", \n",
    "    \"decrease analgesic activities\", \n",
    "    \"decrease effectiveness\",\n",
    "    \"decrease neuromuscular blocking activities\", \n",
    "    \"decrease effectiveness\", \n",
    "    \"increase vasopressor activities\", \n",
    "    \"increase vasodilatory activities\",\n",
    "    \"decrease vasoconstricting activities\",\n",
    "    \"increase ulcerogenic activities\", \n",
    "    \"increase hyperglycemic activities\", \n",
    "    \"may increase the excretion rate\"\n",
    "    \n",
    "]\n",
    "\n",
    "def inorder(relation, keywords):\n",
    "    if len(keywords) == 0: return True\n",
    "    idx = [relation.find(k) for k in keywords]\n",
    "    if idx[0] == -1: return False\n",
    "    for i in range(1, len(idx)):\n",
    "        if idx[i] == -1 or idx[i] < idx[i-1]:\n",
    "            return False\n",
    "    return True\n",
    "\n",
    "def normalizeRelation(relation):\n",
    "    for n in normalized_keywords:\n",
    "        if inorder(relation.relation, n.split()):\n",
    "            return n\n",
    "    return None"
   ]
  },
  {
   "cell_type": "code",
   "execution_count": 45,
   "metadata": {
    "scrolled": false
   },
   "outputs": [
    {
     "name": "stdout",
     "output_type": "stream",
     "text": [
      "known: 250906, unknown:149\n"
     ]
    }
   ],
   "source": [
    "num_knowns = 0\n",
    "num_unknowns = 0\n",
    "for r in relations:\n",
    "    normalized = normalizeRelation(r)\n",
    "    r.normalizedRelation = normalized\n",
    "    if normalized == None:\n",
    "        #print(\"unknown: %s\" % r.relation)\n",
    "        num_unknowns += 1\n",
    "    else:\n",
    "        num_knowns += 1\n",
    "print(\"known: %d, unknown:%d\" % (num_knowns, num_unknowns))"
   ]
  },
  {
   "cell_type": "code",
   "execution_count": 48,
   "metadata": {},
   "outputs": [
    {
     "data": {
      "text/plain": [
       "67"
      ]
     },
     "execution_count": 48,
     "metadata": {},
     "output_type": "execute_result"
    }
   ],
   "source": [
    "len(normalized_keywords)"
   ]
  },
  {
   "cell_type": "code",
   "execution_count": 59,
   "metadata": {},
   "outputs": [],
   "source": [
    "#analyze the distribution of the labels \n",
    "relation_types = {}\n",
    "for relation in relations:\n",
    "    relation_type = relation.normalizedRelation\n",
    "    if relation_type in relation_types.keys(): \n",
    "        value = relation_types[relation_type]\n",
    "        relation_types[relation_type] = value + 1\n",
    "    else: \n",
    "        relation_types[relation_type] = 1"
   ]
  },
  {
   "cell_type": "code",
   "execution_count": 60,
   "metadata": {},
   "outputs": [],
   "source": [
    "relation_types_df = pd.DataFrame(relation_types.items(), columns = ['Relations', 'Frequency'])"
   ]
  },
  {
   "cell_type": "code",
   "execution_count": 56,
   "metadata": {},
   "outputs": [],
   "source": [
    "import seaborn as sns\n",
    "import pandas as pd\n",
    "import matplotlib.pyplot as plt"
   ]
  },
  {
   "cell_type": "code",
   "execution_count": 61,
   "metadata": {},
   "outputs": [],
   "source": [
    "relation_types_df.head()\n",
    "relation_types_df.sort_values(by = ['Frequency'], ascending = False, inplace = True)\n",
    "#relation_types_df= relation_types_df[relation_types_df.Frequency >500]"
   ]
  },
  {
   "cell_type": "code",
   "execution_count": 62,
   "metadata": {},
   "outputs": [
    {
     "data": {
      "text/html": [
       "<div>\n",
       "<style scoped>\n",
       "    .dataframe tbody tr th:only-of-type {\n",
       "        vertical-align: middle;\n",
       "    }\n",
       "\n",
       "    .dataframe tbody tr th {\n",
       "        vertical-align: top;\n",
       "    }\n",
       "\n",
       "    .dataframe thead th {\n",
       "        text-align: right;\n",
       "    }\n",
       "</style>\n",
       "<table border=\"1\" class=\"dataframe\">\n",
       "  <thead>\n",
       "    <tr style=\"text-align: right;\">\n",
       "      <th></th>\n",
       "      <th>Relations</th>\n",
       "      <th>Frequency</th>\n",
       "    </tr>\n",
       "  </thead>\n",
       "  <tbody>\n",
       "    <tr>\n",
       "      <th>6</th>\n",
       "      <td>adverse effects increased</td>\n",
       "      <td>72825</td>\n",
       "    </tr>\n",
       "    <tr>\n",
       "      <th>2</th>\n",
       "      <td>serum concentration increased</td>\n",
       "      <td>44654</td>\n",
       "    </tr>\n",
       "    <tr>\n",
       "      <th>7</th>\n",
       "      <td>metabolism decreased</td>\n",
       "      <td>30983</td>\n",
       "    </tr>\n",
       "    <tr>\n",
       "      <th>0</th>\n",
       "      <td>serum concentration decreased</td>\n",
       "      <td>17295</td>\n",
       "    </tr>\n",
       "    <tr>\n",
       "      <th>24</th>\n",
       "      <td>increase hypotensive activities</td>\n",
       "      <td>12193</td>\n",
       "    </tr>\n",
       "    <tr>\n",
       "      <th>3</th>\n",
       "      <td>therapeutic efficacy decreased</td>\n",
       "      <td>10382</td>\n",
       "    </tr>\n",
       "    <tr>\n",
       "      <th>1</th>\n",
       "      <td>increase anticoagulant activities</td>\n",
       "      <td>8807</td>\n",
       "    </tr>\n",
       "    <tr>\n",
       "      <th>19</th>\n",
       "      <td>increase qtcprolonging activities</td>\n",
       "      <td>7266</td>\n",
       "    </tr>\n",
       "    <tr>\n",
       "      <th>41</th>\n",
       "      <td>increase central nervous system depressant act...</td>\n",
       "      <td>5918</td>\n",
       "    </tr>\n",
       "    <tr>\n",
       "      <th>5</th>\n",
       "      <td>metabolism increased</td>\n",
       "      <td>5379</td>\n",
       "    </tr>\n",
       "    <tr>\n",
       "      <th>22</th>\n",
       "      <td>increase hypoglycemic activities</td>\n",
       "      <td>4623</td>\n",
       "    </tr>\n",
       "    <tr>\n",
       "      <th>10</th>\n",
       "      <td>decrease antihypertensive activities</td>\n",
       "      <td>4000</td>\n",
       "    </tr>\n",
       "    <tr>\n",
       "      <th>11</th>\n",
       "      <td>decrease excretion rate</td>\n",
       "      <td>2203</td>\n",
       "    </tr>\n",
       "    <tr>\n",
       "      <th>16</th>\n",
       "      <td>increase neuroexcitatory activities</td>\n",
       "      <td>1982</td>\n",
       "    </tr>\n",
       "    <tr>\n",
       "      <th>38</th>\n",
       "      <td>increase serotonergic activities</td>\n",
       "      <td>1656</td>\n",
       "    </tr>\n",
       "    <tr>\n",
       "      <th>8</th>\n",
       "      <td>decrease cardiotoxic activities</td>\n",
       "      <td>1618</td>\n",
       "    </tr>\n",
       "    <tr>\n",
       "      <th>35</th>\n",
       "      <td>increase bradycardic activities</td>\n",
       "      <td>1594</td>\n",
       "    </tr>\n",
       "    <tr>\n",
       "      <th>47</th>\n",
       "      <td>increase hypokalemic activities</td>\n",
       "      <td>1312</td>\n",
       "    </tr>\n",
       "    <tr>\n",
       "      <th>42</th>\n",
       "      <td>increase sedative activities</td>\n",
       "      <td>1154</td>\n",
       "    </tr>\n",
       "    <tr>\n",
       "      <th>15</th>\n",
       "      <td>decrease absorption</td>\n",
       "      <td>1125</td>\n",
       "    </tr>\n",
       "    <tr>\n",
       "      <th>9</th>\n",
       "      <td>increase cardiotoxic activities</td>\n",
       "      <td>966</td>\n",
       "    </tr>\n",
       "    <tr>\n",
       "      <th>53</th>\n",
       "      <td>increase hypertensive activities</td>\n",
       "      <td>798</td>\n",
       "    </tr>\n",
       "    <tr>\n",
       "      <th>36</th>\n",
       "      <td>increase atrioventricular blocking activities</td>\n",
       "      <td>781</td>\n",
       "    </tr>\n",
       "    <tr>\n",
       "      <th>17</th>\n",
       "      <td>increase hyperkalemic activities</td>\n",
       "      <td>721</td>\n",
       "    </tr>\n",
       "    <tr>\n",
       "      <th>4</th>\n",
       "      <td>decrease anticoagulant activities</td>\n",
       "      <td>669</td>\n",
       "    </tr>\n",
       "    <tr>\n",
       "      <th>12</th>\n",
       "      <td>increase nephrotoxic activities</td>\n",
       "      <td>658</td>\n",
       "    </tr>\n",
       "    <tr>\n",
       "      <th>43</th>\n",
       "      <td>increase antihypertensive activities</td>\n",
       "      <td>610</td>\n",
       "    </tr>\n",
       "    <tr>\n",
       "      <th>51</th>\n",
       "      <td>decrease sedative activities</td>\n",
       "      <td>584</td>\n",
       "    </tr>\n",
       "    <tr>\n",
       "      <th>27</th>\n",
       "      <td>increase anticholinergic activities</td>\n",
       "      <td>545</td>\n",
       "    </tr>\n",
       "    <tr>\n",
       "      <th>26</th>\n",
       "      <td>increase neuromuscular blocking activities</td>\n",
       "      <td>529</td>\n",
       "    </tr>\n",
       "    <tr>\n",
       "      <th>...</th>\n",
       "      <td>...</td>\n",
       "      <td>...</td>\n",
       "    </tr>\n",
       "    <tr>\n",
       "      <th>44</th>\n",
       "      <td>increase arrhythmogenic activities</td>\n",
       "      <td>361</td>\n",
       "    </tr>\n",
       "    <tr>\n",
       "      <th>52</th>\n",
       "      <td>increase analgesic activities</td>\n",
       "      <td>350</td>\n",
       "    </tr>\n",
       "    <tr>\n",
       "      <th>32</th>\n",
       "      <td>serum concentration metabolites reduced</td>\n",
       "      <td>341</td>\n",
       "    </tr>\n",
       "    <tr>\n",
       "      <th>49</th>\n",
       "      <td>increase fluid retaining activities</td>\n",
       "      <td>324</td>\n",
       "    </tr>\n",
       "    <tr>\n",
       "      <th>20</th>\n",
       "      <td>increase thrombogenic activities</td>\n",
       "      <td>274</td>\n",
       "    </tr>\n",
       "    <tr>\n",
       "      <th>66</th>\n",
       "      <td>increase hypocalcemic activities</td>\n",
       "      <td>198</td>\n",
       "    </tr>\n",
       "    <tr>\n",
       "      <th>30</th>\n",
       "      <td>increase vasoconstricting activities</td>\n",
       "      <td>189</td>\n",
       "    </tr>\n",
       "    <tr>\n",
       "      <th>58</th>\n",
       "      <td>increase constipating activities</td>\n",
       "      <td>176</td>\n",
       "    </tr>\n",
       "    <tr>\n",
       "      <th>54</th>\n",
       "      <td>increase tachycardic activities</td>\n",
       "      <td>176</td>\n",
       "    </tr>\n",
       "    <tr>\n",
       "      <th>40</th>\n",
       "      <td>increase hyponatremic activities</td>\n",
       "      <td>163</td>\n",
       "    </tr>\n",
       "    <tr>\n",
       "      <th>45</th>\n",
       "      <td>None</td>\n",
       "      <td>149</td>\n",
       "    </tr>\n",
       "    <tr>\n",
       "      <th>28</th>\n",
       "      <td>increase adverse neuromuscular activities</td>\n",
       "      <td>145</td>\n",
       "    </tr>\n",
       "    <tr>\n",
       "      <th>33</th>\n",
       "      <td>increase neurotoxic activities</td>\n",
       "      <td>143</td>\n",
       "    </tr>\n",
       "    <tr>\n",
       "      <th>60</th>\n",
       "      <td>decrease neuromuscular blocking activities</td>\n",
       "      <td>141</td>\n",
       "    </tr>\n",
       "    <tr>\n",
       "      <th>57</th>\n",
       "      <td>decrease analgesic activities</td>\n",
       "      <td>108</td>\n",
       "    </tr>\n",
       "    <tr>\n",
       "      <th>65</th>\n",
       "      <td>decrease effectiveness</td>\n",
       "      <td>100</td>\n",
       "    </tr>\n",
       "    <tr>\n",
       "      <th>64</th>\n",
       "      <td>increase vasopressor activities</td>\n",
       "      <td>81</td>\n",
       "    </tr>\n",
       "    <tr>\n",
       "      <th>39</th>\n",
       "      <td>increase myopathic rhabdomyolysis activities</td>\n",
       "      <td>74</td>\n",
       "    </tr>\n",
       "    <tr>\n",
       "      <th>34</th>\n",
       "      <td>increase absorption</td>\n",
       "      <td>67</td>\n",
       "    </tr>\n",
       "    <tr>\n",
       "      <th>21</th>\n",
       "      <td>increase stimulatory activities</td>\n",
       "      <td>66</td>\n",
       "    </tr>\n",
       "    <tr>\n",
       "      <th>18</th>\n",
       "      <td>increase neutropenic activities</td>\n",
       "      <td>60</td>\n",
       "    </tr>\n",
       "    <tr>\n",
       "      <th>63</th>\n",
       "      <td>decrease vasoconstricting activities</td>\n",
       "      <td>60</td>\n",
       "    </tr>\n",
       "    <tr>\n",
       "      <th>31</th>\n",
       "      <td>increase hepatotoxic activities</td>\n",
       "      <td>52</td>\n",
       "    </tr>\n",
       "    <tr>\n",
       "      <th>23</th>\n",
       "      <td>decrease antineoplastic activities</td>\n",
       "      <td>49</td>\n",
       "    </tr>\n",
       "    <tr>\n",
       "      <th>62</th>\n",
       "      <td>increase ulcerogenic activities</td>\n",
       "      <td>47</td>\n",
       "    </tr>\n",
       "    <tr>\n",
       "      <th>48</th>\n",
       "      <td>increase hyperglycemic activities</td>\n",
       "      <td>46</td>\n",
       "    </tr>\n",
       "    <tr>\n",
       "      <th>56</th>\n",
       "      <td>may increase the excretion rate</td>\n",
       "      <td>41</td>\n",
       "    </tr>\n",
       "    <tr>\n",
       "      <th>25</th>\n",
       "      <td>risk hypersensitivity reaction increased</td>\n",
       "      <td>39</td>\n",
       "    </tr>\n",
       "    <tr>\n",
       "      <th>37</th>\n",
       "      <td>increase photosensitizing activities</td>\n",
       "      <td>31</td>\n",
       "    </tr>\n",
       "    <tr>\n",
       "      <th>61</th>\n",
       "      <td>increase vasodilatory activities</td>\n",
       "      <td>24</td>\n",
       "    </tr>\n",
       "  </tbody>\n",
       "</table>\n",
       "<p>67 rows × 2 columns</p>\n",
       "</div>"
      ],
      "text/plain": [
       "                                            Relations  Frequency\n",
       "6                           adverse effects increased      72825\n",
       "2                       serum concentration increased      44654\n",
       "7                                metabolism decreased      30983\n",
       "0                       serum concentration decreased      17295\n",
       "24                    increase hypotensive activities      12193\n",
       "3                      therapeutic efficacy decreased      10382\n",
       "1                   increase anticoagulant activities       8807\n",
       "19                  increase qtcprolonging activities       7266\n",
       "41  increase central nervous system depressant act...       5918\n",
       "5                                metabolism increased       5379\n",
       "22                   increase hypoglycemic activities       4623\n",
       "10               decrease antihypertensive activities       4000\n",
       "11                            decrease excretion rate       2203\n",
       "16                increase neuroexcitatory activities       1982\n",
       "38                   increase serotonergic activities       1656\n",
       "8                     decrease cardiotoxic activities       1618\n",
       "35                    increase bradycardic activities       1594\n",
       "47                    increase hypokalemic activities       1312\n",
       "42                       increase sedative activities       1154\n",
       "15                                decrease absorption       1125\n",
       "9                     increase cardiotoxic activities        966\n",
       "53                   increase hypertensive activities        798\n",
       "36      increase atrioventricular blocking activities        781\n",
       "17                   increase hyperkalemic activities        721\n",
       "4                   decrease anticoagulant activities        669\n",
       "12                    increase nephrotoxic activities        658\n",
       "43               increase antihypertensive activities        610\n",
       "51                       decrease sedative activities        584\n",
       "27                increase anticholinergic activities        545\n",
       "26         increase neuromuscular blocking activities        529\n",
       "..                                                ...        ...\n",
       "44                 increase arrhythmogenic activities        361\n",
       "52                      increase analgesic activities        350\n",
       "32            serum concentration metabolites reduced        341\n",
       "49                increase fluid retaining activities        324\n",
       "20                   increase thrombogenic activities        274\n",
       "66                   increase hypocalcemic activities        198\n",
       "30               increase vasoconstricting activities        189\n",
       "58                   increase constipating activities        176\n",
       "54                    increase tachycardic activities        176\n",
       "40                   increase hyponatremic activities        163\n",
       "45                                               None        149\n",
       "28          increase adverse neuromuscular activities        145\n",
       "33                     increase neurotoxic activities        143\n",
       "60         decrease neuromuscular blocking activities        141\n",
       "57                      decrease analgesic activities        108\n",
       "65                             decrease effectiveness        100\n",
       "64                    increase vasopressor activities         81\n",
       "39       increase myopathic rhabdomyolysis activities         74\n",
       "34                                increase absorption         67\n",
       "21                    increase stimulatory activities         66\n",
       "18                    increase neutropenic activities         60\n",
       "63               decrease vasoconstricting activities         60\n",
       "31                    increase hepatotoxic activities         52\n",
       "23                 decrease antineoplastic activities         49\n",
       "62                    increase ulcerogenic activities         47\n",
       "48                  increase hyperglycemic activities         46\n",
       "56                    may increase the excretion rate         41\n",
       "25           risk hypersensitivity reaction increased         39\n",
       "37               increase photosensitizing activities         31\n",
       "61                   increase vasodilatory activities         24\n",
       "\n",
       "[67 rows x 2 columns]"
      ]
     },
     "execution_count": 62,
     "metadata": {},
     "output_type": "execute_result"
    }
   ],
   "source": [
    "relation_types_df"
   ]
  },
  {
   "cell_type": "code",
   "execution_count": 19,
   "metadata": {},
   "outputs": [
    {
     "data": {
      "text/plain": [
       "[Text(0, 0, 'the risk or severity of adverse effects can be increased when __ is combined with'),\n",
       " Text(0, 0, 'the serum concentration of __ can be increased when it is combined with'),\n",
       " Text(0, 0, 'the metabolism of __ can be decreased when combined with'),\n",
       " Text(0, 0, 'the serum concentration of __ can be decreased when it is combined with'),\n",
       " Text(0, 0, 'may increase the hypotensive activities of'),\n",
       " Text(0, 0, 'the therapeutic efficacy of __ can be decreased when used in combination with'),\n",
       " Text(0, 0, 'may increase the anticoagulant activities of'),\n",
       " Text(0, 0, 'may increase the qtcprolonging activities of'),\n",
       " Text(0, 0, 'may increase the central nervous system depressant cns depressant activities of'),\n",
       " Text(0, 0, 'the metabolism of __ can be increased when combined with'),\n",
       " Text(0, 0, 'may increase the hypoglycemic activities of'),\n",
       " Text(0, 0, 'may decrease the antihypertensive activities of'),\n",
       " Text(0, 0, 'may decrease the excretion rate of'),\n",
       " Text(0, 0, 'may increase the neuroexcitatory activities of'),\n",
       " Text(0, 0, 'may increase the serotonergic activities of'),\n",
       " Text(0, 0, 'may decrease the cardiotoxic activities of'),\n",
       " Text(0, 0, 'may increase the bradycardic activities of'),\n",
       " Text(0, 0, 'may increase the hypokalemic activities of'),\n",
       " Text(0, 0, 'may increase the sedative activities of'),\n",
       " Text(0, 0, 'can cause a decrease in the absorption of'),\n",
       " Text(0, 0, 'may increase the cardiotoxic activities of'),\n",
       " Text(0, 0, 'may increase the hypertensive activities of'),\n",
       " Text(0, 0, 'may increase the atrioventricular blocking av block activities of'),\n",
       " Text(0, 0, 'may increase the hyperkalemic activities of'),\n",
       " Text(0, 0, 'may decrease the anticoagulant activities of'),\n",
       " Text(0, 0, 'may increase the orthostatic hypotensive activities of'),\n",
       " Text(0, 0, 'may increase the nephrotoxic activities of'),\n",
       " Text(0, 0, 'may increase the antihypertensive activities of'),\n",
       " Text(0, 0, 'may decrease the sedative activities of'),\n",
       " Text(0, 0, 'may increase the anticholinergic activities of'),\n",
       " Text(0, 0, 'may increase the neuromuscular blocking activities of')]"
      ]
     },
     "execution_count": 19,
     "metadata": {},
     "output_type": "execute_result"
    },
    {
     "data": {
      "image/png": "[encoded data removed]",
      "text/plain": [
       "<Figure size 432x288 with 1 Axes>"
      ]
     },
     "metadata": {
      "needs_background": "light"
     },
     "output_type": "display_data"
    }
   ],
   "source": [
    "plt.figure()\n",
    "sns.set(rc={'figure.figsize':(14.5,11.27)})\n",
    "#sns.set(font= 14)\n",
    "sns.set_context(\"paper\", font_scale=2.0)                                                  \n",
    "\n",
    "\n",
    "g = sns.barplot(x = 'Relations', y = 'Frequency', data = relation_types_df)\n",
    "g.set_xticklabels(g.get_xticklabels(), rotation=90)\n"
   ]
  },
  {
   "cell_type": "code",
   "execution_count": 20,
   "metadata": {},
   "outputs": [],
   "source": [
    "selected_relations= [] # selected based on how frequent a particular interaction is \n",
    "selected_relation_descriptions = list(relation_types_df['Relations'])# taken > 500 frequency from the dataframe above\n",
    "\n",
    "for relation in relations: \n",
    "    if relation.relation in selected_relation_descriptions: \n",
    "        selected_relations.append(relation)\n",
    "    else: \n",
    "        continue         \n",
    "    "
   ]
  },
  {
   "cell_type": "code",
   "execution_count": 21,
   "metadata": {},
   "outputs": [
    {
     "data": {
      "text/plain": [
       "[abciximab (increase anticoagulant activities) lepirudin,\n",
       " aceclofenac (increase anticoagulant activities) lepirudin,\n",
       " lepirudin (increase anticoagulant activities) acenocoumarol,\n",
       " acetylsalicylic acid (increase anticoagulant activities) lepirudin,\n",
       " adapalene (increase anticoagulant activities) lepirudin,\n",
       " lepirudin (serum concentration increased) alfuzosin,\n",
       " allylestrenol (therapeutic efficacy decreased) lepirudin,\n",
       " lepirudin (serum concentration increased) alprazolam,\n",
       " alprostadil (increase anticoagulant activities) lepirudin]"
      ]
     },
     "execution_count": 21,
     "metadata": {},
     "output_type": "execute_result"
    }
   ],
   "source": [
    "selected_relations[1:10]"
   ]
  },
  {
   "cell_type": "code",
   "execution_count": 22,
   "metadata": {},
   "outputs": [],
   "source": [
    "def selected_relations_to_labels(selected_relations):\n",
    "    selected_interactions = {}\n",
    "    for selected_relation in selected_relations: \n",
    "        drug_pair = (selected_relation.subject, selected_relation.object)\n",
    "        interaction = selected_relation.normalizedRelation\n",
    "        selected_interactions[drug_pair]= interaction\n",
    "    return selected_interactions\n",
    "selected_interactions = selected_relations_to_labels(selected_relations)\n"
   ]
  },
  {
   "cell_type": "code",
   "execution_count": 23,
   "metadata": {},
   "outputs": [
    {
     "data": {
      "text/html": [
       "<div>\n",
       "<style scoped>\n",
       "    .dataframe tbody tr th:only-of-type {\n",
       "        vertical-align: middle;\n",
       "    }\n",
       "\n",
       "    .dataframe tbody tr th {\n",
       "        vertical-align: top;\n",
       "    }\n",
       "\n",
       "    .dataframe thead th {\n",
       "        text-align: right;\n",
       "    }\n",
       "</style>\n",
       "<table border=\"1\" class=\"dataframe\">\n",
       "  <thead>\n",
       "    <tr style=\"text-align: right;\">\n",
       "      <th></th>\n",
       "      <th>SMILES</th>\n",
       "      <th>Molecular_Fingerprint</th>\n",
       "    </tr>\n",
       "    <tr>\n",
       "      <th>DrugName</th>\n",
       "      <th></th>\n",
       "      <th></th>\n",
       "    </tr>\n",
       "  </thead>\n",
       "  <tbody>\n",
       "    <tr>\n",
       "      <th>Lepirudin</th>\n",
       "      <td>COCCOC[C@H](CC1(CCCC1)C(=O)N[C@H]1CC[C@H](CC1)...</td>\n",
       "      <td>[0.0, 0.0, 0.0, 0.0, 0.0, 0.0, 0.0, 0.0, 0.0, ...</td>\n",
       "    </tr>\n",
       "    <tr>\n",
       "      <th>Cetuximab</th>\n",
       "      <td>COCCOC[C@H](CC1(CCCC1)C(=O)N[C@H]1CC[C@H](CC1)...</td>\n",
       "      <td>[0.0, 0.0, 0.0, 0.0, 0.0, 0.0, 0.0, 0.0, 0.0, ...</td>\n",
       "    </tr>\n",
       "    <tr>\n",
       "      <th>Dornase alfa</th>\n",
       "      <td>COCCOC[C@H](CC1(CCCC1)C(=O)N[C@H]1CC[C@H](CC1)...</td>\n",
       "      <td>[0.0, 0.0, 0.0, 0.0, 0.0, 0.0, 0.0, 0.0, 0.0, ...</td>\n",
       "    </tr>\n",
       "    <tr>\n",
       "      <th>Denileukin diftitox</th>\n",
       "      <td>COCCOC[C@H](CC1(CCCC1)C(=O)N[C@H]1CC[C@H](CC1)...</td>\n",
       "      <td>[0.0, 0.0, 0.0, 0.0, 0.0, 0.0, 0.0, 0.0, 0.0, ...</td>\n",
       "    </tr>\n",
       "    <tr>\n",
       "      <th>Etanercept</th>\n",
       "      <td>COCCOC[C@H](CC1(CCCC1)C(=O)N[C@H]1CC[C@H](CC1)...</td>\n",
       "      <td>[0.0, 0.0, 0.0, 0.0, 0.0, 0.0, 0.0, 0.0, 0.0, ...</td>\n",
       "    </tr>\n",
       "  </tbody>\n",
       "</table>\n",
       "</div>"
      ],
      "text/plain": [
       "                                                                SMILES  \\\n",
       "DrugName                                                                 \n",
       "Lepirudin            COCCOC[C@H](CC1(CCCC1)C(=O)N[C@H]1CC[C@H](CC1)...   \n",
       "Cetuximab            COCCOC[C@H](CC1(CCCC1)C(=O)N[C@H]1CC[C@H](CC1)...   \n",
       "Dornase alfa         COCCOC[C@H](CC1(CCCC1)C(=O)N[C@H]1CC[C@H](CC1)...   \n",
       "Denileukin diftitox  COCCOC[C@H](CC1(CCCC1)C(=O)N[C@H]1CC[C@H](CC1)...   \n",
       "Etanercept           COCCOC[C@H](CC1(CCCC1)C(=O)N[C@H]1CC[C@H](CC1)...   \n",
       "\n",
       "                                                 Molecular_Fingerprint  \n",
       "DrugName                                                                \n",
       "Lepirudin            [0.0, 0.0, 0.0, 0.0, 0.0, 0.0, 0.0, 0.0, 0.0, ...  \n",
       "Cetuximab            [0.0, 0.0, 0.0, 0.0, 0.0, 0.0, 0.0, 0.0, 0.0, ...  \n",
       "Dornase alfa         [0.0, 0.0, 0.0, 0.0, 0.0, 0.0, 0.0, 0.0, 0.0, ...  \n",
       "Denileukin diftitox  [0.0, 0.0, 0.0, 0.0, 0.0, 0.0, 0.0, 0.0, 0.0, ...  \n",
       "Etanercept           [0.0, 0.0, 0.0, 0.0, 0.0, 0.0, 0.0, 0.0, 0.0, ...  "
      ]
     },
     "execution_count": 23,
     "metadata": {},
     "output_type": "execute_result"
    }
   ],
   "source": [
    "fingerprints = pd.read_pickle(\"/Users/shristi/Documents/InsightDataProject/Data/ProcessedData/Fingerprints.pkl\")\n",
    "fingerprints.head()\n",
    "#type(fingerprints)"
   ]
  },
  {
   "cell_type": "code",
   "execution_count": 24,
   "metadata": {},
   "outputs": [],
   "source": [
    "fingerprints.index = fingerprints.index.str.lower()\n",
    "fingerprints_dict = fingerprints.to_dict(orient = 'index')"
   ]
  },
  {
   "cell_type": "code",
   "execution_count": 25,
   "metadata": {},
   "outputs": [
    {
     "data": {
      "text/plain": [
       "('lepirudin',\n",
       " {'SMILES': 'COCCOC[C@H](CC1(CCCC1)C(=O)N[C@H]1CC[C@H](CC1)C(O)=O)C(O)=O',\n",
       "  'Molecular_Fingerprint': array([0., 0., 0., ..., 0., 0., 0.])})"
      ]
     },
     "execution_count": 25,
     "metadata": {},
     "output_type": "execute_result"
    }
   ],
   "source": [
    "list(fingerprints_dict.items())[0]"
   ]
  },
  {
   "cell_type": "code",
   "execution_count": 26,
   "metadata": {},
   "outputs": [],
   "source": [
    "#check if all the drugs that are in selected interactions are also in fingerprints. if not throw them out of selected\n",
    "#interactions. Selected interactions will be the starting point of \n",
    "def check_drug_presence(fingerprints, selected_interactions):\n",
    "    keys_to_delete = []\n",
    "    for key in selected_interactions: \n",
    "        keys_to_check = [key[0], key[1]]\n",
    "        #print(keys_to_check)\n",
    "        result =  all(elem in fingerprints.keys() for elem in keys_to_check)\n",
    "        if result:\n",
    "            continue \n",
    "        else: \n",
    "            keys_to_delete.append(key) \n",
    "    return keys_to_delete\n",
    "    \n",
    "keys_to_delete = check_drug_presence(fingerprints_dict, selected_interactions)"
   ]
  },
  {
   "cell_type": "code",
   "execution_count": 27,
   "metadata": {},
   "outputs": [
    {
     "data": {
      "text/plain": [
       "243263"
      ]
     },
     "execution_count": 27,
     "metadata": {},
     "output_type": "execute_result"
    }
   ],
   "source": [
    "len(selected_interactions)"
   ]
  },
  {
   "cell_type": "code",
   "execution_count": 28,
   "metadata": {},
   "outputs": [
    {
     "data": {
      "text/plain": [
       "29261"
      ]
     },
     "execution_count": 28,
     "metadata": {},
     "output_type": "execute_result"
    }
   ],
   "source": [
    "len(keys_to_delete)"
   ]
  },
  {
   "cell_type": "code",
   "execution_count": 29,
   "metadata": {},
   "outputs": [
    {
     "data": {
      "text/plain": [
       "7452"
      ]
     },
     "execution_count": 29,
     "metadata": {},
     "output_type": "execute_result"
    }
   ],
   "source": [
    "len(fingerprints_dict)"
   ]
  },
  {
   "cell_type": "code",
   "execution_count": 30,
   "metadata": {},
   "outputs": [],
   "source": [
    "len(keys_to_delete)\n",
    "for key_to_delete in keys_to_delete:\n",
    "    del selected_interactions[key_to_delete]\n",
    "    "
   ]
  },
  {
   "cell_type": "code",
   "execution_count": 31,
   "metadata": {},
   "outputs": [
    {
     "data": {
      "text/plain": [
       "(('lepirudin', 'abacavir'), 'serum concentration decreased')"
      ]
     },
     "execution_count": 31,
     "metadata": {},
     "output_type": "execute_result"
    }
   ],
   "source": [
    "list(selected_interactions.items())[0]\n",
    "\n"
   ]
  },
  {
   "cell_type": "code",
   "execution_count": 32,
   "metadata": {},
   "outputs": [
    {
     "name": "stdout",
     "output_type": "stream",
     "text": [
      "{'adverse effects increased': 0, 'decrease absorption': 1, 'decrease anticoagulant activities': 2, 'decrease antihypertensive activities': 3, 'decrease cardiotoxic activities': 4, 'decrease excretion rate': 5, 'decrease sedative activities': 6, 'increase anticholinergic activities': 7, 'increase anticoagulant activities': 8, 'increase antihypertensive activities': 9, 'increase atrioventricular blocking activities': 10, 'increase bradycardic activities': 11, 'increase cardiotoxic activities': 12, 'increase central nervous system depressant activities': 13, 'increase hyperkalemic activities': 14, 'increase hypertensive activities': 15, 'increase hypoglycemic activities': 16, 'increase hypokalemic activities': 17, 'increase hypotensive activities': 18, 'increase nephrotoxic activities': 19, 'increase neuroexcitatory activities': 20, 'increase neuromuscular blocking activities': 21, 'increase qtcprolonging activities': 22, 'increase sedative activities': 23, 'increase serotonergic activities': 24, 'metabolism decreased': 25, 'metabolism increased': 26, 'serum concentration decreased': 27, 'serum concentration increased': 28, 'therapeutic efficacy decreased': 29}\n",
      "(2048,)\n",
      "(2048,)\n"
     ]
    }
   ],
   "source": [
    "def get_label_map(selected_interactions):\n",
    "    elems = sorted(set(selected_interactions.values()))\n",
    "    return {elems[i]:i for i in range(len(elems))}\n",
    "\n",
    "def get_reverse_label_map(selected_interactions):\n",
    "    elems = sorted(set(selected_interactions.values()))\n",
    "    return {i:elems[i] for i in range(len(elems))}\n",
    "\n",
    "def featurize_pairs(fingerprints, selected_interactions, label_map):\n",
    "    X = []\n",
    "    Y = []\n",
    "    for key in selected_interactions:\n",
    "        drug_subject = key[0]\n",
    "        drug_object = key[1]\n",
    "        \n",
    "        feature_subject = fingerprints[drug_subject]['Molecular_Fingerprint']\n",
    "        feature_object = fingerprints[drug_object]['Molecular_Fingerprint']\n",
    "        print(feature_object.shape)\n",
    "        features = feature_subject + feature_object\n",
    "        print(features.shape)\n",
    "        label = label_map[selected_interactions[key]]\n",
    "        break \n",
    "        X.append(features)\n",
    "        Y.append(label)\n",
    "    return X,Y\n",
    "\n",
    "label_map = get_label_map(selected_interactions)\n",
    "print(label_map)\n",
    "X,Y = featurize_pairs(fingerprints_dict, selected_interactions, label_map)\n"
   ]
  },
  {
   "cell_type": "code",
   "execution_count": null,
   "metadata": {},
   "outputs": [],
   "source": [
    "sns.set()\n",
    "plt.hist(a)\n",
    "plt.title(\"Number of non zero values in the ECFP features of drug pairs\", fontsize = 18)\n",
    "plt.ylabel(\"Frequency\", fontsize=16)\n",
    "plt.xlabel(\"Number of non-zero elements\", fontsize= 16)\n"
   ]
  },
  {
   "cell_type": "code",
   "execution_count": null,
   "metadata": {},
   "outputs": [],
   "source": [
    "print(X[0])\n",
    "print(Y[0])\n",
    "print(\"num x:%d, num y:%d\" % (len(X), len(Y)))"
   ]
  },
  {
   "cell_type": "code",
   "execution_count": null,
   "metadata": {},
   "outputs": [],
   "source": [
    "import sklearn\n",
    "from sklearn.model_selection import train_test_split\n",
    "X_train, X_test, y_train, y_test = sklearn.model_selection.train_test_split(X, Y, train_size=0.7)"
   ]
  },
  {
   "cell_type": "code",
   "execution_count": null,
   "metadata": {},
   "outputs": [],
   "source": [
    "X_train[0].shape\n"
   ]
  },
  {
   "cell_type": "code",
   "execution_count": null,
   "metadata": {},
   "outputs": [],
   "source": [
    "from sklearn.ensemble import RandomForestClassifier\n",
    "\n",
    "rf = RandomForestClassifier(n_estimators=100, random_state=1123)\n",
    "rf.fit(X_train, y_train)\n"
   ]
  },
  {
   "cell_type": "code",
   "execution_count": null,
   "metadata": {},
   "outputs": [],
   "source": [
    "rf.score(X_test, y_test)\n"
   ]
  },
  {
   "cell_type": "code",
   "execution_count": null,
   "metadata": {},
   "outputs": [],
   "source": [
    "from joblib import dump, load\n",
    "#dump(rf, '/Users/shristi/Documents/InsightDataProject/Models/RFmodel.joblib') \n"
   ]
  },
  {
   "cell_type": "code",
   "execution_count": null,
   "metadata": {},
   "outputs": [],
   "source": [
    "np.array(y_test)\n"
   ]
  },
  {
   "cell_type": "code",
   "execution_count": null,
   "metadata": {},
   "outputs": [],
   "source": [
    "# confusion matrix \n",
    "from sklearn.metrics import confusion_matrix\n",
    "from sklearn.utils.multiclass import unique_labels\n",
    "confusion_matrix(y_test, rf.predict(X_test))\n"
   ]
  },
  {
   "cell_type": "code",
   "execution_count": null,
   "metadata": {},
   "outputs": [],
   "source": [
    "def plot_confusion_matrix(y_true, y_pred, classes,\n",
    "                          normalize=False,\n",
    "                          title=None,\n",
    "                          cmap=plt.cm.Blues):\n",
    "    \"\"\"\n",
    "    This function prints and plots the confusion matrix.\n",
    "    Normalization can be applied by setting `normalize=True`.\n",
    "    \"\"\"\n",
    "    if not title:\n",
    "        if normalize:\n",
    "            title = 'Normalized confusion matrix'\n",
    "        else:\n",
    "            title = 'Confusion matrix, without normalization'\n",
    "\n",
    "    # Compute confusion matrix\n",
    "    cm = confusion_matrix(y_true, y_pred)\n",
    "    # Only use the labels that appear in the data\n",
    "    classes = classes[unique_labels(y_true, y_pred)]\n",
    "    if normalize:\n",
    "        cm = cm.astype('float') / cm.sum(axis=1)[:, np.newaxis]\n",
    "        #print(\"Normalized confusion matrix\")\n",
    "    #else:\n",
    "        #print('Confusion matrix, without normalization')\n",
    "\n",
    "    #print(cm)\n",
    "\n",
    "    fig, ax = plt.subplots()\n",
    "    im = ax.imshow(cm, interpolation='nearest', cmap=cmap)\n",
    "    ax.figure.colorbar(im, ax=ax)\n",
    "    # We want to show all ticks...\n",
    "    ax.set(xticks=np.arange(cm.shape[1]),\n",
    "           yticks=np.arange(cm.shape[0]),\n",
    "           # ... and label them with the respective list entries\n",
    "           xticklabels=classes, yticklabels=classes,\n",
    "           title=title,\n",
    "           ylabel='True label',\n",
    "           xlabel='Predicted label')\n",
    "\n",
    "    # Rotate the tick labels and set their alignment.\n",
    "    plt.setp(ax.get_xticklabels(), rotation=45, ha=\"right\",\n",
    "             rotation_mode=\"anchor\")\n",
    "\n",
    "    '''\n",
    "    # Loop over data dimensions and create text annotations.\n",
    "    fmt = '.2f' if normalize else 'd'\n",
    "    thresh = cm.max() / 2.\n",
    "    for i in range(cm.shape[0]):\n",
    "        for j in range(cm.shape[1]):\n",
    "            ax.text(j, i, format(cm[i, j], fmt),\n",
    "                    ha=\"center\", va=\"center\",\n",
    "                    color=\"white\" if cm[i, j] > thresh else \"black\")\n",
    "    '''\n",
    "    #fig.tight_layout()\n",
    "    return ax"
   ]
  },
  {
   "cell_type": "code",
   "execution_count": null,
   "metadata": {},
   "outputs": [],
   "source": [
    "y_pred = rf.predict(X_test)\n",
    "fpr, tpr, thresholds = roc_curve(y_test, probs)"
   ]
  },
  {
   "cell_type": "code",
   "execution_count": null,
   "metadata": {},
   "outputs": [],
   "source": [
    "y_test[:10]"
   ]
  },
  {
   "cell_type": "code",
   "execution_count": null,
   "metadata": {},
   "outputs": [],
   "source": [
    "class_names = np.array([str(i) for i in range(30)])\n",
    "plot_confusion_matrix(y_test, y_pred, class_names, normalize=True,\n",
    "                      title='Normalized confusion matrix')"
   ]
  },
  {
   "cell_type": "code",
   "execution_count": null,
   "metadata": {},
   "outputs": [],
   "source": [
    "fingerprints.head(20)"
   ]
  },
  {
   "cell_type": "code",
   "execution_count": null,
   "metadata": {},
   "outputs": [],
   "source": [
    "importance = list(rf.feature_importances_)\n",
    "importance2 = []\n",
    "for imp in importance: \n",
    "    if imp  >= 0.5:\n",
    "        print(imp)\n",
    "\n",
    "        importance2.append(i)"
   ]
  },
  {
   "cell_type": "code",
   "execution_count": null,
   "metadata": {},
   "outputs": [],
   "source": [
    "importance2"
   ]
  },
  {
   "cell_type": "code",
   "execution_count": null,
   "metadata": {},
   "outputs": [],
   "source": [
    "plt.figure(figsize = (12, 8))\n",
    "plt.bar(list(range(0,len(importance2))),importance2)"
   ]
  },
  {
   "cell_type": "code",
   "execution_count": null,
   "metadata": {},
   "outputs": [],
   "source": [
    "from joblib import dump, load\n",
    "#rf = load('/Users/shristi/Documents/InsightDataProject/clf.joblib')\n",
    "\n",
    "def predict(sub, obj):\n",
    "    if sub not in fingerprints_dict.keys():\n",
    "        print(\"fingerprints not available for %s\" % sub)\n",
    "        return\n",
    "    if obj not in fingerprints_dict.keys():\n",
    "        print(\"fingerprints not available for %s\" % obj)\n",
    "        return\n",
    "    f1 = fingerprints_dict[sub]['Molecular_Fingerprint']\n",
    "    f2 = fingerprints_dict[obj]['Molecular_Fingerprint']\n",
    "    pair_fingerprint = f1+f2\n",
    "    result = rf.predict([pair_fingerprint])\n",
    "    return result\n",
    "    #print(pair_fingerprint)\n",
    "\n",
    "prediction = predict(\"levonorgestrel\", \"lamotrigine\")"
   ]
  },
  {
   "cell_type": "code",
   "execution_count": null,
   "metadata": {},
   "outputs": [],
   "source": [
    "labels = get_reverse_label_map(selected_interactions)\n",
    "labels[prediction[0]]"
   ]
  },
  {
   "cell_type": "code",
   "execution_count": null,
   "metadata": {},
   "outputs": [],
   "source": []
  },
  {
   "cell_type": "code",
   "execution_count": null,
   "metadata": {},
   "outputs": [],
   "source": []
  }
 ],
 "metadata": {
  "kernelspec": {
   "display_name": "Python 3",
   "language": "python",
   "name": "python3"
  },
  "language_info": {
   "codemirror_mode": {
    "name": "ipython",
    "version": 3
   },
   "file_extension": ".py",
   "mimetype": "text/x-python",
   "name": "python",
   "nbconvert_exporter": "python",
   "pygments_lexer": "ipython3",
   "version": "3.7.3"
  },
  "toc": {
   "base_numbering": 1,
   "nav_menu": {},
   "number_sections": true,
   "sideBar": true,
   "skip_h1_title": false,
   "title_cell": "Table of Contents",
   "title_sidebar": "Contents",
   "toc_cell": false,
   "toc_position": {},
   "toc_section_display": true,
   "toc_window_display": false
  }
 },
 "nbformat": 4,
 "nbformat_minor": 2
}
