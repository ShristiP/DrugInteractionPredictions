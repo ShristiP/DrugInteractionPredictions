{
 "cells": [
  {
   "cell_type": "code",
   "execution_count": 1,
   "metadata": {},
   "outputs": [],
   "source": [
    "import pandas as pd\n",
    "import pybel\n",
    "import xml.etree.ElementTree as ET\n",
    "import xmlschema\n",
    "import nltk\n",
    "import csv \n"
   ]
  },
  {
   "cell_type": "code",
   "execution_count": null,
   "metadata": {},
   "outputs": [],
   "source": []
  },
  {
   "cell_type": "code",
   "execution_count": 2,
   "metadata": {},
   "outputs": [],
   "source": [
    "#my_schema = xmlschema.XMLSchema('/Users/shristi/Documents/InsightDataProject/Data/DrugBank/drugbank.xsd')\n",
    "my_tree = ET.parse('/Users/shristi/Documents/InsightDataProject/Data/DrugBank/fulldatabase2.xml')\n",
    "root = my_tree.getroot()\n"
   ]
  },
  {
   "cell_type": "code",
   "execution_count": 3,
   "metadata": {},
   "outputs": [
    {
     "data": {
      "text/plain": [
       "8226"
      ]
     },
     "execution_count": 3,
     "metadata": {},
     "output_type": "execute_result"
    }
   ],
   "source": [
    "# Number of drugs in the database\n",
    "len(root)    \n"
   ]
  },
  {
   "cell_type": "code",
   "execution_count": 35,
   "metadata": {},
   "outputs": [
    {
     "name": "stderr",
     "output_type": "stream",
     "text": [
      "IOPub data rate exceeded.\n",
      "The notebook server will temporarily stop sending output\n",
      "to the client in order to avoid crashing it.\n",
      "To change this limit, set the config variable\n",
      "`--NotebookApp.iopub_data_rate_limit`.\n",
      "\n",
      "Current values:\n",
      "NotebookApp.iopub_data_rate_limit=1000000.0 (bytes/sec)\n",
      "NotebookApp.rate_limit_window=3.0 (secs)\n",
      "\n"
     ]
    }
   ],
   "source": [
    "# Retrieve drug drug interactions from the root and place two drugnames and interactions in a dataframe \n",
    "all_drug_interactions = {}\n",
    "count = 0\n",
    "for drug in root:\n",
    "    for i in range(0, len(drug)): \n",
    "        if (drug[i].tag == \"{http://www.drugbank.ca}name\"):\n",
    "            drug_name = drug[i].text\n",
    "        if (drug[i].tag ==  \"{http://www.drugbank.ca}drug-interactions\"):\n",
    "            drug_interactions = drug[i]\n",
    "    #print(drug_name)\n",
    "    #print(type(drug_interaction))\n",
    "    for drug_interaction in drug_interactions:\n",
    "        #print(drug_interactions)\n",
    "        second_drug = drug_interaction[1].text\n",
    "        # put in tuple \n",
    "        drug_pair = sorted((drug_name, second_drug))\n",
    "        drug_pair = tuple(drug_pair)\n",
    "        #print(drug_pair)\n",
    "        description = drug_interaction[2].text\n",
    "        all_drug_interactions[drug_pair] = description\n",
    "    count += 1\n",
    "    #print(drug.get('drug-interactions'))\n",
    "\n",
    "#print(count)\n",
    "#print(all_drug_interactions)"
   ]
  },
  {
   "cell_type": "code",
   "execution_count": 54,
   "metadata": {},
   "outputs": [],
   "source": [
    "w = csv.writer(open(\"drug_interactions.csv\", \"w\"))\n",
    "for key, val in all_drug_interactions.items():\n",
    "    w.writerow([key, val])\n",
    "    "
   ]
  }
 ],
 "metadata": {
  "kernelspec": {
   "display_name": "Python 3",
   "language": "python",
   "name": "python3"
  },
  "language_info": {
   "codemirror_mode": {
    "name": "ipython",
    "version": 3
   },
   "file_extension": ".py",
   "mimetype": "text/x-python",
   "name": "python",
   "nbconvert_exporter": "python",
   "pygments_lexer": "ipython3",
   "version": "3.7.3"
  }
 },
 "nbformat": 4,
 "nbformat_minor": 2
}
