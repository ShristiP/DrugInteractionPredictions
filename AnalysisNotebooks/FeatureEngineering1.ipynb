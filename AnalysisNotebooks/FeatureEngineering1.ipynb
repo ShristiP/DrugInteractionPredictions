{
 "cells": [
  {
   "cell_type": "markdown",
   "metadata": {},
   "source": [
    "# Feature engineering\n",
    "\n",
    "In this notebook, we will try a few different methods of featurizing the structure data. \n",
    "1. Structural similarity profile (SSP) that is basically computed between pairs of drugs (Tanimoto) \n",
    "2. Molecular Descriptor Profile [Check Package: mordred]\n",
    "3. Molecular Autoencoder [Automatic chemical design using a data-driven continuous representation of molecules.]\n",
    "4. Mol2vec: [Check Paper: Mol2vec: unsupervised machine learning approach with chemical intuition]\n"
   ]
  },
  {
   "cell_type": "code",
   "execution_count": 51,
   "metadata": {},
   "outputs": [],
   "source": [
    "import rdkit as rd\n",
    "import pandas as pd\n",
    "import csv \n",
    "from rdkit import DataStructs\n",
    "from rdkit.Chem.Fingerprints import FingerprintMols\n",
    "from rdkit import Chem\n",
    "from rdkit.Chem import AllChem \n",
    "import numpy as np"
   ]
  },
  {
   "cell_type": "code",
   "execution_count": 52,
   "metadata": {},
   "outputs": [
    {
     "name": "stdout",
     "output_type": "stream",
     "text": [
      "8226\n",
      "DrugName      0\n",
      "SMILES      774\n",
      "dtype: int64\n",
      "7452\n"
     ]
    }
   ],
   "source": [
    "molecular_features = pd.read_csv(\"/Users/shristi/Documents/InsightDataProject/Data/ProcessedData/molecular_features.csv\")\n",
    "molecular_features.rename(columns={'Unnamed: 0':'DrugName'}, inplace=True)\n",
    "molecular_features\n",
    "smiles_strings = molecular_features[['DrugName','SMILES']]\n",
    "print(len(smiles_strings))\n",
    "print(smiles_strings.isna().sum())\n",
    "smiles_strings = smiles_strings.dropna()\n",
    "print(len(smiles_strings))\n",
    "smiles_strings.set_index('DrugName', inplace=True)"
   ]
  },
  {
   "cell_type": "code",
   "execution_count": 53,
   "metadata": {},
   "outputs": [
    {
     "data": {
      "text/html": [
       "<div>\n",
       "<style scoped>\n",
       "    .dataframe tbody tr th:only-of-type {\n",
       "        vertical-align: middle;\n",
       "    }\n",
       "\n",
       "    .dataframe tbody tr th {\n",
       "        vertical-align: top;\n",
       "    }\n",
       "\n",
       "    .dataframe thead th {\n",
       "        text-align: right;\n",
       "    }\n",
       "</style>\n",
       "<table border=\"1\" class=\"dataframe\">\n",
       "  <thead>\n",
       "    <tr style=\"text-align: right;\">\n",
       "      <th></th>\n",
       "      <th>SMILES</th>\n",
       "    </tr>\n",
       "    <tr>\n",
       "      <th>DrugName</th>\n",
       "      <th></th>\n",
       "    </tr>\n",
       "  </thead>\n",
       "  <tbody>\n",
       "    <tr>\n",
       "      <th>Lepirudin</th>\n",
       "      <td>COCCOC[C@H](CC1(CCCC1)C(=O)N[C@H]1CC[C@H](CC1)...</td>\n",
       "    </tr>\n",
       "    <tr>\n",
       "      <th>Cetuximab</th>\n",
       "      <td>COCCOC[C@H](CC1(CCCC1)C(=O)N[C@H]1CC[C@H](CC1)...</td>\n",
       "    </tr>\n",
       "    <tr>\n",
       "      <th>Dornase alfa</th>\n",
       "      <td>COCCOC[C@H](CC1(CCCC1)C(=O)N[C@H]1CC[C@H](CC1)...</td>\n",
       "    </tr>\n",
       "    <tr>\n",
       "      <th>Denileukin diftitox</th>\n",
       "      <td>COCCOC[C@H](CC1(CCCC1)C(=O)N[C@H]1CC[C@H](CC1)...</td>\n",
       "    </tr>\n",
       "    <tr>\n",
       "      <th>Etanercept</th>\n",
       "      <td>COCCOC[C@H](CC1(CCCC1)C(=O)N[C@H]1CC[C@H](CC1)...</td>\n",
       "    </tr>\n",
       "  </tbody>\n",
       "</table>\n",
       "</div>"
      ],
      "text/plain": [
       "                                                                SMILES\n",
       "DrugName                                                              \n",
       "Lepirudin            COCCOC[C@H](CC1(CCCC1)C(=O)N[C@H]1CC[C@H](CC1)...\n",
       "Cetuximab            COCCOC[C@H](CC1(CCCC1)C(=O)N[C@H]1CC[C@H](CC1)...\n",
       "Dornase alfa         COCCOC[C@H](CC1(CCCC1)C(=O)N[C@H]1CC[C@H](CC1)...\n",
       "Denileukin diftitox  COCCOC[C@H](CC1(CCCC1)C(=O)N[C@H]1CC[C@H](CC1)...\n",
       "Etanercept           COCCOC[C@H](CC1(CCCC1)C(=O)N[C@H]1CC[C@H](CC1)..."
      ]
     },
     "execution_count": 53,
     "metadata": {},
     "output_type": "execute_result"
    }
   ],
   "source": [
    "smiles_strings.head()"
   ]
  },
  {
   "cell_type": "markdown",
   "metadata": {},
   "source": [
    "#### Now lets convert the SMILES to feature vectors\n",
    "\n",
    "#### 1.  Structural similarity profile\n",
    "\n",
    "Structural similarity profile is defined as the number of common chemical fingerprints divided by the number of all the chemical fingerprints of the two drugs being compared. "
   ]
  },
  {
   "cell_type": "code",
   "execution_count": 15,
   "metadata": {},
   "outputs": [],
   "source": [
    "def get_profile(drug):\n",
    "    drug1_mol = Chem.MolFromSmiles(drug)\n",
    "    if drug1_mol is None: return None\n",
    "    return Chem.AddHs(drug1_mol)\n",
    "\n",
    "def compute_similarity(profile_1, profile_2):\n",
    "    fps_1 = AllChem.GetMorganFingerprint(profile_1, 2)\n",
    "    fps_2 = AllChem.GetMorganFingerprint(profile_2, 2)\n",
    "    if fps_1 is None or fps_2 is None: \n",
    "        return None\n",
    "    \n",
    "    score = DataStructs.DiceSimilarity(fps_1, fps_2)\n",
    "    return score \n",
    "\n",
    "def calculate_tanimoto_similarity(input_drug_list, drugbank_list):\n",
    "    structure_similarity_scores = {}\n",
    "\n",
    "    for i, row in enumerate(drugbank_list.values):\n",
    "        curr_drug = drugbank_list.index[i]\n",
    "        structure_similarity_scores[curr_drug] = {}\n",
    "        profile = get_profile(row[0])\n",
    "        if profile is None:\n",
    "            continue\n",
    "        \n",
    "        for j, row2 in enumerate(input_drug_list.values):\n",
    "            curr_input_drug = input_drug_list.index[j]\n",
    "            input_profile = get_profile(row2[0])\n",
    "            if input_profile is None:\n",
    "                continue\n",
    "            \n",
    "            score = compute_similarity(input_profile, profile)\n",
    "            if score is not None: \n",
    "                structure_similarity_scores[curr_drug][curr_input_drug] = score  \n",
    "    return structure_similarity_scores\n",
    "\n",
    "structure_similarities = calculate_tanimoto_similarity(smiles_strings, smiles_strings)"
   ]
  },
  {
   "cell_type": "code",
   "execution_count": 17,
   "metadata": {},
   "outputs": [],
   "source": [
    "structure_similarity_profiles = pd.DataFrame(structure_similarities)"
   ]
  },
  {
   "cell_type": "code",
   "execution_count": 19,
   "metadata": {},
   "outputs": [],
   "source": [
    "structure_similarity_profiles.to_csv(\"/Users/shristi/Documents/InsightDataProject/Data/ProcessedData/structural_similarity_profiles.csv\")"
   ]
  },
  {
   "cell_type": "markdown",
   "metadata": {},
   "source": [
    "#### 2. Featurize using molecular fingerprints only ECFP\n",
    "\n"
   ]
  },
  {
   "cell_type": "code",
   "execution_count": 95,
   "metadata": {},
   "outputs": [],
   "source": [
    "def featurize_smiles_mol_fingerprint(drug_list):\n",
    "    fingerprints = []\n",
    "    for i, row in enumerate(drug_list.values):\n",
    "        curr_drug = drug_list.index[i]\n",
    "        profile = get_profile(row[0])\n",
    "        arr = np.zeros((1,))\n",
    "        if profile is not None: \n",
    "            fingerprint = AllChem.GetMorganFingerprintAsBitVect(profile, 2)\n",
    "            DataStructs.ConvertToNumpyArray(fingerprint,arr)\n",
    "        else:\n",
    "            fingerprint = None\n",
    "        fingerprints.append(arr)  \n",
    "    drug_list['Molecular_Fingerprint'] = fingerprints\n",
    "    return drug_list\n",
    "fingerprint_list = featurize_smiles_mol_fingerprint(smiles_strings)"
   ]
  },
  {
   "cell_type": "code",
   "execution_count": 106,
   "metadata": {},
   "outputs": [
    {
     "data": {
      "text/html": [
       "<div>\n",
       "<style scoped>\n",
       "    .dataframe tbody tr th:only-of-type {\n",
       "        vertical-align: middle;\n",
       "    }\n",
       "\n",
       "    .dataframe tbody tr th {\n",
       "        vertical-align: top;\n",
       "    }\n",
       "\n",
       "    .dataframe thead th {\n",
       "        text-align: right;\n",
       "    }\n",
       "</style>\n",
       "<table border=\"1\" class=\"dataframe\">\n",
       "  <thead>\n",
       "    <tr style=\"text-align: right;\">\n",
       "      <th></th>\n",
       "      <th>SMILES</th>\n",
       "      <th>Molecular_Fingerprint</th>\n",
       "    </tr>\n",
       "    <tr>\n",
       "      <th>DrugName</th>\n",
       "      <th></th>\n",
       "      <th></th>\n",
       "    </tr>\n",
       "  </thead>\n",
       "  <tbody>\n",
       "    <tr>\n",
       "      <th>Lepirudin</th>\n",
       "      <td>COCCOC[C@H](CC1(CCCC1)C(=O)N[C@H]1CC[C@H](CC1)...</td>\n",
       "      <td>[0.0, 0.0, 0.0, 0.0, 0.0, 0.0, 0.0, 0.0, 0.0, ...</td>\n",
       "    </tr>\n",
       "    <tr>\n",
       "      <th>Cetuximab</th>\n",
       "      <td>COCCOC[C@H](CC1(CCCC1)C(=O)N[C@H]1CC[C@H](CC1)...</td>\n",
       "      <td>[0.0, 0.0, 0.0, 0.0, 0.0, 0.0, 0.0, 0.0, 0.0, ...</td>\n",
       "    </tr>\n",
       "    <tr>\n",
       "      <th>Dornase alfa</th>\n",
       "      <td>COCCOC[C@H](CC1(CCCC1)C(=O)N[C@H]1CC[C@H](CC1)...</td>\n",
       "      <td>[0.0, 0.0, 0.0, 0.0, 0.0, 0.0, 0.0, 0.0, 0.0, ...</td>\n",
       "    </tr>\n",
       "    <tr>\n",
       "      <th>Denileukin diftitox</th>\n",
       "      <td>COCCOC[C@H](CC1(CCCC1)C(=O)N[C@H]1CC[C@H](CC1)...</td>\n",
       "      <td>[0.0, 0.0, 0.0, 0.0, 0.0, 0.0, 0.0, 0.0, 0.0, ...</td>\n",
       "    </tr>\n",
       "    <tr>\n",
       "      <th>Etanercept</th>\n",
       "      <td>COCCOC[C@H](CC1(CCCC1)C(=O)N[C@H]1CC[C@H](CC1)...</td>\n",
       "      <td>[0.0, 0.0, 0.0, 0.0, 0.0, 0.0, 0.0, 0.0, 0.0, ...</td>\n",
       "    </tr>\n",
       "  </tbody>\n",
       "</table>\n",
       "</div>"
      ],
      "text/plain": [
       "                                                                SMILES  \\\n",
       "DrugName                                                                 \n",
       "Lepirudin            COCCOC[C@H](CC1(CCCC1)C(=O)N[C@H]1CC[C@H](CC1)...   \n",
       "Cetuximab            COCCOC[C@H](CC1(CCCC1)C(=O)N[C@H]1CC[C@H](CC1)...   \n",
       "Dornase alfa         COCCOC[C@H](CC1(CCCC1)C(=O)N[C@H]1CC[C@H](CC1)...   \n",
       "Denileukin diftitox  COCCOC[C@H](CC1(CCCC1)C(=O)N[C@H]1CC[C@H](CC1)...   \n",
       "Etanercept           COCCOC[C@H](CC1(CCCC1)C(=O)N[C@H]1CC[C@H](CC1)...   \n",
       "\n",
       "                                                 Molecular_Fingerprint  \n",
       "DrugName                                                                \n",
       "Lepirudin            [0.0, 0.0, 0.0, 0.0, 0.0, 0.0, 0.0, 0.0, 0.0, ...  \n",
       "Cetuximab            [0.0, 0.0, 0.0, 0.0, 0.0, 0.0, 0.0, 0.0, 0.0, ...  \n",
       "Dornase alfa         [0.0, 0.0, 0.0, 0.0, 0.0, 0.0, 0.0, 0.0, 0.0, ...  \n",
       "Denileukin diftitox  [0.0, 0.0, 0.0, 0.0, 0.0, 0.0, 0.0, 0.0, 0.0, ...  \n",
       "Etanercept           [0.0, 0.0, 0.0, 0.0, 0.0, 0.0, 0.0, 0.0, 0.0, ...  "
      ]
     },
     "execution_count": 106,
     "metadata": {},
     "output_type": "execute_result"
    }
   ],
   "source": [
    "fingerprint_list.head()"
   ]
  },
  {
   "cell_type": "code",
   "execution_count": 107,
   "metadata": {},
   "outputs": [],
   "source": [
    "#fingerprint_list.to_csv('/Users/shristi/Documents/InsightDataProject/Data/ProcessedData/fingerprints.csv')\n",
    "fingerprint_list.to_pickle('/Users/shristi/Documents/InsightDataProject/Data/ProcessedData/fingerprints.pkl')"
   ]
  },
  {
   "cell_type": "markdown",
   "metadata": {},
   "source": [
    "#### 3. Featurize using mol2vec"
   ]
  },
  {
   "cell_type": "code",
   "execution_count": 21,
   "metadata": {},
   "outputs": [],
   "source": [
    "from mol2vec import features\n",
    "from mol2vec import helpers"
   ]
  },
  {
   "cell_type": "code",
   "execution_count": null,
   "metadata": {},
   "outputs": [],
   "source": [
    "## NEEDS DOING: \n",
    "def featurize_smiles_mol2vec(drug_list):\n",
    "    drug_vectors = []\n",
    "    for i, row in enumerate(drug_list.values):\n",
    "        curr_drug = drug_list.index[i]\n",
    "        profile = get_profile(row[0])\n",
    "        \n",
    "        if profile is not None: \n",
    "            fingerprint = AllChem.GetMorganFingerprintAsBitVect(profile, 2)\n",
    "        else:\n",
    "            fingerprint = None\n",
    "            \n",
    "        drug_vectors.append(fingerprint)\n",
    "    drug_vectors['fingerprints'] = fingerprints\n",
    "    return drug_list\n",
    "\n",
    "mol2vec_features = featurize_smiles_mol2vec(smiles_strings)"
   ]
  }
 ],
 "metadata": {
  "kernelspec": {
   "display_name": "Python 3",
   "language": "python",
   "name": "python3"
  },
  "language_info": {
   "codemirror_mode": {
    "name": "ipython",
    "version": 3
   },
   "file_extension": ".py",
   "mimetype": "text/x-python",
   "name": "python",
   "nbconvert_exporter": "python",
   "pygments_lexer": "ipython3",
   "version": "3.7.3"
  }
 },
 "nbformat": 4,
 "nbformat_minor": 2
}
