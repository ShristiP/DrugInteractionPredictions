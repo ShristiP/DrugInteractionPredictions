{
 "cells": [
  {
   "cell_type": "markdown",
   "metadata": {},
   "source": [
    "## Random Forest "
   ]
  },
  {
   "cell_type": "code",
   "execution_count": 179,
   "metadata": {},
   "outputs": [],
   "source": [
    "from rdkit import Chem, DataStructs\n",
    "from rdkit.Chem import AllChem\n",
    "from sklearn.ensemble import RandomForestClassifier\n",
    "import numpy as np \n",
    "import pandas as pd \n",
    "from rdkit.Chem.Draw import SimilarityMaps"
   ]
  },
  {
   "cell_type": "code",
   "execution_count": 186,
   "metadata": {},
   "outputs": [],
   "source": [
    "#Read Features for each drug and combine into featurepairs \n",
    "fingerprints = pd.read_csv(\"/Users/shristi/Documents/InsightDataProject/Data/ProcessedData/Fingerprints.csv\")\n",
    "interactions = pd.read_csv(\"/Users/shristi/Documents/InsightDataProject/Data/ProcessedData/drug_interactions.csv\")\n"
   ]
  },
  {
   "cell_type": "code",
   "execution_count": 194,
   "metadata": {},
   "outputs": [
    {
     "data": {
      "text/html": [
       "<div>\n",
       "<style scoped>\n",
       "    .dataframe tbody tr th:only-of-type {\n",
       "        vertical-align: middle;\n",
       "    }\n",
       "\n",
       "    .dataframe tbody tr th {\n",
       "        vertical-align: top;\n",
       "    }\n",
       "\n",
       "    .dataframe thead th {\n",
       "        text-align: right;\n",
       "    }\n",
       "</style>\n",
       "<table border=\"1\" class=\"dataframe\">\n",
       "  <thead>\n",
       "    <tr style=\"text-align: right;\">\n",
       "      <th></th>\n",
       "      <th>Described_interactions</th>\n",
       "    </tr>\n",
       "    <tr>\n",
       "      <th>Drug_Pair</th>\n",
       "      <th></th>\n",
       "    </tr>\n",
       "  </thead>\n",
       "  <tbody>\n",
       "    <tr>\n",
       "      <th>('Abacavir', 'Lepirudin')</th>\n",
       "      <td>The serum concentration of Abacavir can be dec...</td>\n",
       "    </tr>\n",
       "    <tr>\n",
       "      <th>('Abciximab', 'Lepirudin')</th>\n",
       "      <td>Abciximab may increase the anticoagulant activ...</td>\n",
       "    </tr>\n",
       "    <tr>\n",
       "      <th>('Aceclofenac', 'Lepirudin')</th>\n",
       "      <td>Aceclofenac may increase the anticoagulant act...</td>\n",
       "    </tr>\n",
       "    <tr>\n",
       "      <th>('Acenocoumarol', 'Lepirudin')</th>\n",
       "      <td>Lepirudin may increase the anticoagulant activ...</td>\n",
       "    </tr>\n",
       "    <tr>\n",
       "      <th>('Acetylsalicylic acid', 'Lepirudin')</th>\n",
       "      <td>Acetylsalicylic acid may increase the anticoag...</td>\n",
       "    </tr>\n",
       "  </tbody>\n",
       "</table>\n",
       "</div>"
      ],
      "text/plain": [
       "                                                                  Described_interactions\n",
       "Drug_Pair                                                                               \n",
       "('Abacavir', 'Lepirudin')              The serum concentration of Abacavir can be dec...\n",
       "('Abciximab', 'Lepirudin')             Abciximab may increase the anticoagulant activ...\n",
       "('Aceclofenac', 'Lepirudin')           Aceclofenac may increase the anticoagulant act...\n",
       "('Acenocoumarol', 'Lepirudin')         Lepirudin may increase the anticoagulant activ...\n",
       "('Acetylsalicylic acid', 'Lepirudin')  Acetylsalicylic acid may increase the anticoag..."
      ]
     },
     "execution_count": 194,
     "metadata": {},
     "output_type": "execute_result"
    }
   ],
   "source": [
    "interactions.head()"
   ]
  },
  {
   "cell_type": "code",
   "execution_count": 187,
   "metadata": {},
   "outputs": [],
   "source": [
    "drug_pairs = interactions['Drug_Pair']"
   ]
  },
  {
   "cell_type": "code",
   "execution_count": 188,
   "metadata": {},
   "outputs": [],
   "source": [
    "def build_feature_and_label(pair, fingerprint_dictionary, interaction_dictionary):\n",
    "    drug_1 = pair[0]\n",
    "    drug_2 = pair[1]\n",
    "    feature_vector_pair = np.concatenate((fingerprint_dictionary[drug1], fingerprint_dictionary[drug2]), axis = 1)\n",
    "    label = interaction_dictionary[pair]\n",
    "    return (feature_vector_pair, label)"
   ]
  },
  {
   "cell_type": "code",
   "execution_count": 189,
   "metadata": {},
   "outputs": [],
   "source": [
    "drug_pairs = interactions['Drug_Pair']\n",
    "interactions.set_index('Drug_Pair', inplace=True)\n",
    "interactions_dict = interactions.to_dict()\n",
    "\n",
    "drug_pairs = interactions.index\n",
    "fingerprints = fingerprints[['DrugName', 'Molecular_Fingerprint']]\n",
    "fingerprints.set_index('DrugName', inplace=True)\n",
    "fingerprint_dict = fingerprints.to_dict()\n"
   ]
  },
  {
   "cell_type": "code",
   "execution_count": 193,
   "metadata": {},
   "outputs": [
    {
     "name": "stdout",
     "output_type": "stream",
     "text": [
      "('Aceclofenac', 'Lepirudin')\n",
      "('Abacavir', 'Lepirudin')\n",
      "Abacavir\n",
      " 'Lepirudin\n",
      "pair ('Abacavir', \" 'Lepirudin\")\n",
      "<class 'tuple'>\n"
     ]
    }
   ],
   "source": [
    "features = []\n",
    "labels = []\n",
    "print(list(drug_pairs)[2])\n",
    "for drug_pair in list(drug_pairs): \n",
    "    print(drug_pair)\n",
    "    drug1 = drug_pair.split(',')[0].strip('()').strip(\"''\")\n",
    "    print(drug1)\n",
    "    drug2 = (drug_pair.split(',')[1].strip('()')).strip(\"'\").strip(\"/'\")\n",
    "    print(drug2)\n",
    "    pair = (drug1, drug2)\n",
    "    print(\"pair\", pair)\n",
    "    print(type(pair))\n",
    "    break\n",
    "    feature_label = build_feature_and_label(pair, fingerprint_dict, interactions_dict)\n",
    "    features.append(feature_label[0])\n",
    "    labels.append(feature_label[1])\n",
    "    "
   ]
  },
  {
   "cell_type": "code",
   "execution_count": null,
   "metadata": {},
   "outputs": [],
   "source": [
    "#train the random forest model \n",
    "features_train, features_test, label_train, label_test = train_test_split(features, label, test_size=0.25, random_state=42)\n",
    "\n",
    "rf = RandomForestClassifier(n_estimators=100, random_state=1123)\n",
    "\n",
    "rf.fit(features, label)"
   ]
  },
  {
   "cell_type": "code",
   "execution_count": null,
   "metadata": {},
   "outputs": [],
   "source": [
    "#use the random forest to predict a new molecule  \n",
    "m5 = Chem.MolFromSmiles('c1ccccc1O')\n",
    "fp = numpy.zeros((1,))\n",
    "DataStructs.ConvertToNumpyArray(AllChem.GetMorganFingerprintAsBitVect(m5, 2), fp)\n",
    "print(rf.predict((fp,)))\n",
    "print(rf.predict_proba((fp,)))"
   ]
  },
  {
   "cell_type": "code",
   "execution_count": null,
   "metadata": {},
   "outputs": [],
   "source": [
    "# helper function\n",
    "def getProba(fp, predictionFunction):\n",
    "    return predictionFunction((fp,))[0][1]\n",
    "\n",
    "m5 = Chem.MolFromSmiles('c1ccccc1O')\n",
    "fig, maxweight = SimilarityMaps.GetSimilarityMapForModel(m5, SimilarityMaps.GetMorganFingerprint, lambda x: getProba(x, rf.predict_proba))"
   ]
  },
  {
   "cell_type": "code",
   "execution_count": null,
   "metadata": {},
   "outputs": [],
   "source": []
  }
 ],
 "metadata": {
  "kernelspec": {
   "display_name": "Python 3",
   "language": "python",
   "name": "python3"
  },
  "language_info": {
   "codemirror_mode": {
    "name": "ipython",
    "version": 3
   },
   "file_extension": ".py",
   "mimetype": "text/x-python",
   "name": "python",
   "nbconvert_exporter": "python",
   "pygments_lexer": "ipython3",
   "version": "3.7.3"
  }
 },
 "nbformat": 4,
 "nbformat_minor": 2
}
